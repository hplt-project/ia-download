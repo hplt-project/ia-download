{
 "cells": [
  {
   "cell_type": "code",
   "execution_count": 1,
   "id": "a97571c2-b728-4105-96cf-a3f23ef5b537",
   "metadata": {},
   "outputs": [
    {
     "data": {
      "text/html": [
       "<style>\n",
       "        .bk-notebook-logo {\n",
       "            display: block;\n",
       "            width: 20px;\n",
       "            height: 20px;\n",
       "            background-image: url(data:image/png;base64,iVBORw0KGgoAAAANSUhEUgAAABQAAAAUCAYAAACNiR0NAAAABHNCSVQICAgIfAhkiAAAAAlwSFlzAAALEgAACxIB0t1+/AAAABx0RVh0U29mdHdhcmUAQWRvYmUgRmlyZXdvcmtzIENTNui8sowAAAOkSURBVDiNjZRtaJVlGMd/1/08zzln5zjP1LWcU9N0NkN8m2CYjpgQYQXqSs0I84OLIC0hkEKoPtiH3gmKoiJDU7QpLgoLjLIQCpEsNJ1vqUOdO7ppbuec5+V+rj4ctwzd8IIbbi6u+8f1539dt3A78eXC7QizUF7gyV1fD1Yqg4JWz84yffhm0qkFqBogB9rM8tZdtwVsPUhWhGcFJngGeWrPzHm5oaMmkfEg1usvLFyc8jLRqDOMru7AyC8saQr7GG7f5fvDeH7Ej8CM66nIF+8yngt6HWaKh7k49Soy9nXurCi1o3qUbS3zWfrYeQDTB/Qj6kX6Ybhw4B+bOYoLKCC9H3Nu/leUTZ1JdRWkkn2ldcCamzrcf47KKXdAJllSlxAOkRgyHsGC/zRday5Qld9DyoM4/q/rUoy/CXh3jzOu3bHUVZeU+DEn8FInkPBFlu3+nW3Nw0mk6vCDiWg8CeJaxEwuHS3+z5RgY+YBR6V1Z1nxSOfoaPa4LASWxxdNp+VWTk7+4vzaou8v8PN+xo+KY2xsw6une2frhw05CTYOmQvsEhjhWjn0bmXPjpE1+kplmmkP3suftwTubK9Vq22qKmrBhpY4jvd5afdRA3wGjFAgcnTK2s4hY0/GPNIb0nErGMCRxWOOX64Z8RAC4oCXdklmEvcL8o0BfkNK4lUg9HTl+oPlQxdNo3Mg4Nv175e/1LDGzZen30MEjRUtmXSfiTVu1kK8W4txyV6BMKlbgk3lMwYCiusNy9fVfvvwMxv8Ynl6vxoByANLTWplvuj/nF9m2+PDtt1eiHPBr1oIfhCChQMBw6Aw0UulqTKZdfVvfG7VcfIqLG9bcldL/+pdWTLxLUy8Qq38heUIjh4XlzZxzQm19lLFlr8vdQ97rjZVOLf8nclzckbcD4wxXMidpX30sFd37Fv/GtwwhzhxGVAprjbg0gCAEeIgwCZyTV2Z1REEW8O4py0wsjeloKoMr6iCY6dP92H6Vw/oTyICIthibxjm/DfN9lVz8IqtqKYLUXfoKVMVQVVJOElGjrnnUt9T9wbgp8AyYKaGlqingHZU/uG2NTZSVqwHQTWkx9hxjkpWDaCg6Ckj5qebgBVbT3V3NNXMSiWSDdGV3hrtzla7J+duwPOToIg42ChPQOQjspnSlp1V+Gjdged7+8UN5CRAV7a5EdFNwCjEaBR27b3W890TE7g24NAP/mMDXRWrGoFPQI9ls/MWO2dWFAar/xcOIImbbpA3zgAAAABJRU5ErkJggg==);\n",
       "        }\n",
       "    </style>\n",
       "    <div>\n",
       "        <a href=\"https://bokeh.org\" target=\"_blank\" class=\"bk-notebook-logo\"></a>\n",
       "        <span id=\"p1001\">Loading BokehJS ...</span>\n",
       "    </div>\n"
      ]
     },
     "metadata": {},
     "output_type": "display_data"
    },
    {
     "data": {
      "application/javascript": [
       "(function(root) {\n",
       "  function now() {\n",
       "    return new Date();\n",
       "  }\n",
       "\n",
       "  const force = true;\n",
       "\n",
       "  if (typeof root._bokeh_onload_callbacks === \"undefined\" || force === true) {\n",
       "    root._bokeh_onload_callbacks = [];\n",
       "    root._bokeh_is_loading = undefined;\n",
       "  }\n",
       "\n",
       "const JS_MIME_TYPE = 'application/javascript';\n",
       "  const HTML_MIME_TYPE = 'text/html';\n",
       "  const EXEC_MIME_TYPE = 'application/vnd.bokehjs_exec.v0+json';\n",
       "  const CLASS_NAME = 'output_bokeh rendered_html';\n",
       "\n",
       "  /**\n",
       "   * Render data to the DOM node\n",
       "   */\n",
       "  function render(props, node) {\n",
       "    const script = document.createElement(\"script\");\n",
       "    node.appendChild(script);\n",
       "  }\n",
       "\n",
       "  /**\n",
       "   * Handle when an output is cleared or removed\n",
       "   */\n",
       "  function handleClearOutput(event, handle) {\n",
       "    const cell = handle.cell;\n",
       "\n",
       "    const id = cell.output_area._bokeh_element_id;\n",
       "    const server_id = cell.output_area._bokeh_server_id;\n",
       "    // Clean up Bokeh references\n",
       "    if (id != null && id in Bokeh.index) {\n",
       "      Bokeh.index[id].model.document.clear();\n",
       "      delete Bokeh.index[id];\n",
       "    }\n",
       "\n",
       "    if (server_id !== undefined) {\n",
       "      // Clean up Bokeh references\n",
       "      const cmd_clean = \"from bokeh.io.state import curstate; print(curstate().uuid_to_server['\" + server_id + \"'].get_sessions()[0].document.roots[0]._id)\";\n",
       "      cell.notebook.kernel.execute(cmd_clean, {\n",
       "        iopub: {\n",
       "          output: function(msg) {\n",
       "            const id = msg.content.text.trim();\n",
       "            if (id in Bokeh.index) {\n",
       "              Bokeh.index[id].model.document.clear();\n",
       "              delete Bokeh.index[id];\n",
       "            }\n",
       "          }\n",
       "        }\n",
       "      });\n",
       "      // Destroy server and session\n",
       "      const cmd_destroy = \"import bokeh.io.notebook as ion; ion.destroy_server('\" + server_id + \"')\";\n",
       "      cell.notebook.kernel.execute(cmd_destroy);\n",
       "    }\n",
       "  }\n",
       "\n",
       "  /**\n",
       "   * Handle when a new output is added\n",
       "   */\n",
       "  function handleAddOutput(event, handle) {\n",
       "    const output_area = handle.output_area;\n",
       "    const output = handle.output;\n",
       "\n",
       "    // limit handleAddOutput to display_data with EXEC_MIME_TYPE content only\n",
       "    if ((output.output_type != \"display_data\") || (!Object.prototype.hasOwnProperty.call(output.data, EXEC_MIME_TYPE))) {\n",
       "      return\n",
       "    }\n",
       "\n",
       "    const toinsert = output_area.element.find(\".\" + CLASS_NAME.split(' ')[0]);\n",
       "\n",
       "    if (output.metadata[EXEC_MIME_TYPE][\"id\"] !== undefined) {\n",
       "      toinsert[toinsert.length - 1].firstChild.textContent = output.data[JS_MIME_TYPE];\n",
       "      // store reference to embed id on output_area\n",
       "      output_area._bokeh_element_id = output.metadata[EXEC_MIME_TYPE][\"id\"];\n",
       "    }\n",
       "    if (output.metadata[EXEC_MIME_TYPE][\"server_id\"] !== undefined) {\n",
       "      const bk_div = document.createElement(\"div\");\n",
       "      bk_div.innerHTML = output.data[HTML_MIME_TYPE];\n",
       "      const script_attrs = bk_div.children[0].attributes;\n",
       "      for (let i = 0; i < script_attrs.length; i++) {\n",
       "        toinsert[toinsert.length - 1].firstChild.setAttribute(script_attrs[i].name, script_attrs[i].value);\n",
       "        toinsert[toinsert.length - 1].firstChild.textContent = bk_div.children[0].textContent\n",
       "      }\n",
       "      // store reference to server id on output_area\n",
       "      output_area._bokeh_server_id = output.metadata[EXEC_MIME_TYPE][\"server_id\"];\n",
       "    }\n",
       "  }\n",
       "\n",
       "  function register_renderer(events, OutputArea) {\n",
       "\n",
       "    function append_mime(data, metadata, element) {\n",
       "      // create a DOM node to render to\n",
       "      const toinsert = this.create_output_subarea(\n",
       "        metadata,\n",
       "        CLASS_NAME,\n",
       "        EXEC_MIME_TYPE\n",
       "      );\n",
       "      this.keyboard_manager.register_events(toinsert);\n",
       "      // Render to node\n",
       "      const props = {data: data, metadata: metadata[EXEC_MIME_TYPE]};\n",
       "      render(props, toinsert[toinsert.length - 1]);\n",
       "      element.append(toinsert);\n",
       "      return toinsert\n",
       "    }\n",
       "\n",
       "    /* Handle when an output is cleared or removed */\n",
       "    events.on('clear_output.CodeCell', handleClearOutput);\n",
       "    events.on('delete.Cell', handleClearOutput);\n",
       "\n",
       "    /* Handle when a new output is added */\n",
       "    events.on('output_added.OutputArea', handleAddOutput);\n",
       "\n",
       "    /**\n",
       "     * Register the mime type and append_mime function with output_area\n",
       "     */\n",
       "    OutputArea.prototype.register_mime_type(EXEC_MIME_TYPE, append_mime, {\n",
       "      /* Is output safe? */\n",
       "      safe: true,\n",
       "      /* Index of renderer in `output_area.display_order` */\n",
       "      index: 0\n",
       "    });\n",
       "  }\n",
       "\n",
       "  // register the mime type if in Jupyter Notebook environment and previously unregistered\n",
       "  if (root.Jupyter !== undefined) {\n",
       "    const events = require('base/js/events');\n",
       "    const OutputArea = require('notebook/js/outputarea').OutputArea;\n",
       "\n",
       "    if (OutputArea.prototype.mime_types().indexOf(EXEC_MIME_TYPE) == -1) {\n",
       "      register_renderer(events, OutputArea);\n",
       "    }\n",
       "  }\n",
       "  if (typeof (root._bokeh_timeout) === \"undefined\" || force === true) {\n",
       "    root._bokeh_timeout = Date.now() + 5000;\n",
       "    root._bokeh_failed_load = false;\n",
       "  }\n",
       "\n",
       "  const NB_LOAD_WARNING = {'data': {'text/html':\n",
       "     \"<div style='background-color: #fdd'>\\n\"+\n",
       "     \"<p>\\n\"+\n",
       "     \"BokehJS does not appear to have successfully loaded. If loading BokehJS from CDN, this \\n\"+\n",
       "     \"may be due to a slow or bad network connection. Possible fixes:\\n\"+\n",
       "     \"</p>\\n\"+\n",
       "     \"<ul>\\n\"+\n",
       "     \"<li>re-rerun `output_notebook()` to attempt to load from CDN again, or</li>\\n\"+\n",
       "     \"<li>use INLINE resources instead, as so:</li>\\n\"+\n",
       "     \"</ul>\\n\"+\n",
       "     \"<code>\\n\"+\n",
       "     \"from bokeh.resources import INLINE\\n\"+\n",
       "     \"output_notebook(resources=INLINE)\\n\"+\n",
       "     \"</code>\\n\"+\n",
       "     \"</div>\"}};\n",
       "\n",
       "  function display_loaded() {\n",
       "    const el = document.getElementById(\"p1001\");\n",
       "    if (el != null) {\n",
       "      el.textContent = \"BokehJS is loading...\";\n",
       "    }\n",
       "    if (root.Bokeh !== undefined) {\n",
       "      if (el != null) {\n",
       "        el.textContent = \"BokehJS \" + root.Bokeh.version + \" successfully loaded.\";\n",
       "      }\n",
       "    } else if (Date.now() < root._bokeh_timeout) {\n",
       "      setTimeout(display_loaded, 100)\n",
       "    }\n",
       "  }\n",
       "\n",
       "  function run_callbacks() {\n",
       "    try {\n",
       "      root._bokeh_onload_callbacks.forEach(function(callback) {\n",
       "        if (callback != null)\n",
       "          callback();\n",
       "      });\n",
       "    } finally {\n",
       "      delete root._bokeh_onload_callbacks\n",
       "    }\n",
       "    console.debug(\"Bokeh: all callbacks have finished\");\n",
       "  }\n",
       "\n",
       "  function load_libs(css_urls, js_urls, callback) {\n",
       "    if (css_urls == null) css_urls = [];\n",
       "    if (js_urls == null) js_urls = [];\n",
       "\n",
       "    root._bokeh_onload_callbacks.push(callback);\n",
       "    if (root._bokeh_is_loading > 0) {\n",
       "      console.debug(\"Bokeh: BokehJS is being loaded, scheduling callback at\", now());\n",
       "      return null;\n",
       "    }\n",
       "    if (js_urls == null || js_urls.length === 0) {\n",
       "      run_callbacks();\n",
       "      return null;\n",
       "    }\n",
       "    console.debug(\"Bokeh: BokehJS not loaded, scheduling load and callback at\", now());\n",
       "    root._bokeh_is_loading = css_urls.length + js_urls.length;\n",
       "\n",
       "    function on_load() {\n",
       "      root._bokeh_is_loading--;\n",
       "      if (root._bokeh_is_loading === 0) {\n",
       "        console.debug(\"Bokeh: all BokehJS libraries/stylesheets loaded\");\n",
       "        run_callbacks()\n",
       "      }\n",
       "    }\n",
       "\n",
       "    function on_error(url) {\n",
       "      console.error(\"failed to load \" + url);\n",
       "    }\n",
       "\n",
       "    for (let i = 0; i < css_urls.length; i++) {\n",
       "      const url = css_urls[i];\n",
       "      const element = document.createElement(\"link\");\n",
       "      element.onload = on_load;\n",
       "      element.onerror = on_error.bind(null, url);\n",
       "      element.rel = \"stylesheet\";\n",
       "      element.type = \"text/css\";\n",
       "      element.href = url;\n",
       "      console.debug(\"Bokeh: injecting link tag for BokehJS stylesheet: \", url);\n",
       "      document.body.appendChild(element);\n",
       "    }\n",
       "\n",
       "    for (let i = 0; i < js_urls.length; i++) {\n",
       "      const url = js_urls[i];\n",
       "      const element = document.createElement('script');\n",
       "      element.onload = on_load;\n",
       "      element.onerror = on_error.bind(null, url);\n",
       "      element.async = false;\n",
       "      element.src = url;\n",
       "      console.debug(\"Bokeh: injecting script tag for BokehJS library: \", url);\n",
       "      document.head.appendChild(element);\n",
       "    }\n",
       "  };\n",
       "\n",
       "  function inject_raw_css(css) {\n",
       "    const element = document.createElement(\"style\");\n",
       "    element.appendChild(document.createTextNode(css));\n",
       "    document.body.appendChild(element);\n",
       "  }\n",
       "\n",
       "  const js_urls = [\"https://cdn.bokeh.org/bokeh/release/bokeh-3.0.3.min.js\", \"https://cdn.bokeh.org/bokeh/release/bokeh-gl-3.0.3.min.js\", \"https://cdn.bokeh.org/bokeh/release/bokeh-widgets-3.0.3.min.js\", \"https://cdn.bokeh.org/bokeh/release/bokeh-tables-3.0.3.min.js\", \"https://cdn.bokeh.org/bokeh/release/bokeh-mathjax-3.0.3.min.js\"];\n",
       "  const css_urls = [];\n",
       "\n",
       "  const inline_js = [    function(Bokeh) {\n",
       "      Bokeh.set_log_level(\"info\");\n",
       "    },\n",
       "function(Bokeh) {\n",
       "    }\n",
       "  ];\n",
       "\n",
       "  function run_inline_js() {\n",
       "    if (root.Bokeh !== undefined || force === true) {\n",
       "          for (let i = 0; i < inline_js.length; i++) {\n",
       "      inline_js[i].call(root, root.Bokeh);\n",
       "    }\n",
       "if (force === true) {\n",
       "        display_loaded();\n",
       "      }} else if (Date.now() < root._bokeh_timeout) {\n",
       "      setTimeout(run_inline_js, 100);\n",
       "    } else if (!root._bokeh_failed_load) {\n",
       "      console.log(\"Bokeh: BokehJS failed to load within specified timeout.\");\n",
       "      root._bokeh_failed_load = true;\n",
       "    } else if (force !== true) {\n",
       "      const cell = $(document.getElementById(\"p1001\")).parents('.cell').data().cell;\n",
       "      cell.output_area.append_execute_result(NB_LOAD_WARNING)\n",
       "    }\n",
       "  }\n",
       "\n",
       "  if (root._bokeh_is_loading === 0) {\n",
       "    console.debug(\"Bokeh: BokehJS loaded, going straight to plotting\");\n",
       "    run_inline_js();\n",
       "  } else {\n",
       "    load_libs(css_urls, js_urls, function() {\n",
       "      console.debug(\"Bokeh: BokehJS plotting callback run at\", now());\n",
       "      run_inline_js();\n",
       "    });\n",
       "  }\n",
       "}(window));"
      ],
      "application/vnd.bokehjs_load.v0+json": "(function(root) {\n  function now() {\n    return new Date();\n  }\n\n  const force = true;\n\n  if (typeof root._bokeh_onload_callbacks === \"undefined\" || force === true) {\n    root._bokeh_onload_callbacks = [];\n    root._bokeh_is_loading = undefined;\n  }\n\n\n  if (typeof (root._bokeh_timeout) === \"undefined\" || force === true) {\n    root._bokeh_timeout = Date.now() + 5000;\n    root._bokeh_failed_load = false;\n  }\n\n  const NB_LOAD_WARNING = {'data': {'text/html':\n     \"<div style='background-color: #fdd'>\\n\"+\n     \"<p>\\n\"+\n     \"BokehJS does not appear to have successfully loaded. If loading BokehJS from CDN, this \\n\"+\n     \"may be due to a slow or bad network connection. Possible fixes:\\n\"+\n     \"</p>\\n\"+\n     \"<ul>\\n\"+\n     \"<li>re-rerun `output_notebook()` to attempt to load from CDN again, or</li>\\n\"+\n     \"<li>use INLINE resources instead, as so:</li>\\n\"+\n     \"</ul>\\n\"+\n     \"<code>\\n\"+\n     \"from bokeh.resources import INLINE\\n\"+\n     \"output_notebook(resources=INLINE)\\n\"+\n     \"</code>\\n\"+\n     \"</div>\"}};\n\n  function display_loaded() {\n    const el = document.getElementById(\"p1001\");\n    if (el != null) {\n      el.textContent = \"BokehJS is loading...\";\n    }\n    if (root.Bokeh !== undefined) {\n      if (el != null) {\n        el.textContent = \"BokehJS \" + root.Bokeh.version + \" successfully loaded.\";\n      }\n    } else if (Date.now() < root._bokeh_timeout) {\n      setTimeout(display_loaded, 100)\n    }\n  }\n\n  function run_callbacks() {\n    try {\n      root._bokeh_onload_callbacks.forEach(function(callback) {\n        if (callback != null)\n          callback();\n      });\n    } finally {\n      delete root._bokeh_onload_callbacks\n    }\n    console.debug(\"Bokeh: all callbacks have finished\");\n  }\n\n  function load_libs(css_urls, js_urls, callback) {\n    if (css_urls == null) css_urls = [];\n    if (js_urls == null) js_urls = [];\n\n    root._bokeh_onload_callbacks.push(callback);\n    if (root._bokeh_is_loading > 0) {\n      console.debug(\"Bokeh: BokehJS is being loaded, scheduling callback at\", now());\n      return null;\n    }\n    if (js_urls == null || js_urls.length === 0) {\n      run_callbacks();\n      return null;\n    }\n    console.debug(\"Bokeh: BokehJS not loaded, scheduling load and callback at\", now());\n    root._bokeh_is_loading = css_urls.length + js_urls.length;\n\n    function on_load() {\n      root._bokeh_is_loading--;\n      if (root._bokeh_is_loading === 0) {\n        console.debug(\"Bokeh: all BokehJS libraries/stylesheets loaded\");\n        run_callbacks()\n      }\n    }\n\n    function on_error(url) {\n      console.error(\"failed to load \" + url);\n    }\n\n    for (let i = 0; i < css_urls.length; i++) {\n      const url = css_urls[i];\n      const element = document.createElement(\"link\");\n      element.onload = on_load;\n      element.onerror = on_error.bind(null, url);\n      element.rel = \"stylesheet\";\n      element.type = \"text/css\";\n      element.href = url;\n      console.debug(\"Bokeh: injecting link tag for BokehJS stylesheet: \", url);\n      document.body.appendChild(element);\n    }\n\n    for (let i = 0; i < js_urls.length; i++) {\n      const url = js_urls[i];\n      const element = document.createElement('script');\n      element.onload = on_load;\n      element.onerror = on_error.bind(null, url);\n      element.async = false;\n      element.src = url;\n      console.debug(\"Bokeh: injecting script tag for BokehJS library: \", url);\n      document.head.appendChild(element);\n    }\n  };\n\n  function inject_raw_css(css) {\n    const element = document.createElement(\"style\");\n    element.appendChild(document.createTextNode(css));\n    document.body.appendChild(element);\n  }\n\n  const js_urls = [\"https://cdn.bokeh.org/bokeh/release/bokeh-3.0.3.min.js\", \"https://cdn.bokeh.org/bokeh/release/bokeh-gl-3.0.3.min.js\", \"https://cdn.bokeh.org/bokeh/release/bokeh-widgets-3.0.3.min.js\", \"https://cdn.bokeh.org/bokeh/release/bokeh-tables-3.0.3.min.js\", \"https://cdn.bokeh.org/bokeh/release/bokeh-mathjax-3.0.3.min.js\"];\n  const css_urls = [];\n\n  const inline_js = [    function(Bokeh) {\n      Bokeh.set_log_level(\"info\");\n    },\nfunction(Bokeh) {\n    }\n  ];\n\n  function run_inline_js() {\n    if (root.Bokeh !== undefined || force === true) {\n          for (let i = 0; i < inline_js.length; i++) {\n      inline_js[i].call(root, root.Bokeh);\n    }\nif (force === true) {\n        display_loaded();\n      }} else if (Date.now() < root._bokeh_timeout) {\n      setTimeout(run_inline_js, 100);\n    } else if (!root._bokeh_failed_load) {\n      console.log(\"Bokeh: BokehJS failed to load within specified timeout.\");\n      root._bokeh_failed_load = true;\n    } else if (force !== true) {\n      const cell = $(document.getElementById(\"p1001\")).parents('.cell').data().cell;\n      cell.output_area.append_execute_result(NB_LOAD_WARNING)\n    }\n  }\n\n  if (root._bokeh_is_loading === 0) {\n    console.debug(\"Bokeh: BokehJS loaded, going straight to plotting\");\n    run_inline_js();\n  } else {\n    load_libs(css_urls, js_urls, function() {\n      console.debug(\"Bokeh: BokehJS plotting callback run at\", now());\n      run_inline_js();\n    });\n  }\n}(window));"
     },
     "metadata": {},
     "output_type": "display_data"
    }
   ],
   "source": [
    "import pandas as pd\n",
    "import numpy as np\n",
    "from datetime import datetime\n",
    "from glob import glob\n",
    "from scipy.stats import norm\n",
    "from bokeh.io import show, output_notebook\n",
    "from bokeh.plotting import figure\n",
    "from bokeh.models import ColumnDataSource\n",
    "from bokeh.palettes import Bright6, Category20\n",
    "from bokeh.transform import factor_cmap\n",
    "\n",
    "output_notebook()"
   ]
  },
  {
   "cell_type": "markdown",
   "id": "4145283c-b20d-41f4-a771-acf4281f718e",
   "metadata": {},
   "source": [
    "Data from IA download is stored in tsv files that list which Item was downloaded when, how many seconds that took, and whether an error occurred. Different log files equal different runs, either with slightly different configurations. E.g. checking whether the file on disk has the correct md5 checksum (slow) or not. Number of paralle downloads. Whether we're downloading WIDE15 or WIDE6."
   ]
  },
  {
   "cell_type": "code",
   "execution_count": 68,
   "id": "a7002e18-5285-4a0d-a9f4-f7afbc328d41",
   "metadata": {},
   "outputs": [],
   "source": [
    "def read_table(files):\n",
    "    dfs = []\n",
    "    for filename in files:\n",
    "        df = pd.read_table(filename,\n",
    "                           names=['ts', 'item', 'file', 'path', 'size', 'download_sec', 'md5', 'error'],\n",
    "                           parse_dates=[0])\n",
    "        df['logfile'] = filename\n",
    "        dfs.append(df)\n",
    "    return pd.concat(dfs)\n",
    "\n",
    "data = read_table(\n",
    "    file_name\n",
    "    for file_name in glob('ia-download.log.*')\n",
    "    if datetime.strptime(file_name.split('.')[-1], '%Y%m%d%H%M%S') > datetime(2023,2,1)\n",
    ")"
   ]
  },
  {
   "cell_type": "code",
   "execution_count": 69,
   "id": "8673fee6-04fc-4bb3-b13f-68b7f6c69187",
   "metadata": {},
   "outputs": [
    {
     "data": {
      "text/html": [
       "<div>\n",
       "<style scoped>\n",
       "    .dataframe tbody tr th:only-of-type {\n",
       "        vertical-align: middle;\n",
       "    }\n",
       "\n",
       "    .dataframe tbody tr th {\n",
       "        vertical-align: top;\n",
       "    }\n",
       "\n",
       "    .dataframe thead th {\n",
       "        text-align: right;\n",
       "    }\n",
       "</style>\n",
       "<table border=\"1\" class=\"dataframe\">\n",
       "  <thead>\n",
       "    <tr style=\"text-align: right;\">\n",
       "      <th></th>\n",
       "      <th>ts</th>\n",
       "      <th>item</th>\n",
       "      <th>file</th>\n",
       "      <th>path</th>\n",
       "      <th>size</th>\n",
       "      <th>download_sec</th>\n",
       "      <th>md5</th>\n",
       "      <th>error</th>\n",
       "      <th>logfile</th>\n",
       "    </tr>\n",
       "  </thead>\n",
       "  <tbody>\n",
       "    <tr>\n",
       "      <th>0</th>\n",
       "      <td>2023-02-23 11:37:11.695005</td>\n",
       "      <td>WIDE-20150315001948-crawl800</td>\n",
       "      <td>WIDE-20150315005646-00028.warc.gz</td>\n",
       "      <td>./WIDE-20150315001948-crawl800/WIDE-2015031500...</td>\n",
       "      <td>1.000004e+09</td>\n",
       "      <td>84.0</td>\n",
       "      <td>cabb12e072772465a8131e279d1da753</td>\n",
       "      <td>NaN</td>\n",
       "      <td>ia-download.log.20230223113546</td>\n",
       "    </tr>\n",
       "    <tr>\n",
       "      <th>1</th>\n",
       "      <td>2023-02-23 11:37:12.416287</td>\n",
       "      <td>WIDE-20150315043804-crawl422</td>\n",
       "      <td>WIDE-20150315044302-00086.warc.gz</td>\n",
       "      <td>./WIDE-20150315043804-crawl422/WIDE-2015031504...</td>\n",
       "      <td>1.000035e+09</td>\n",
       "      <td>84.0</td>\n",
       "      <td>aa01ec2fd6ebdc0b043223aeb8f002d3</td>\n",
       "      <td>NaN</td>\n",
       "      <td>ia-download.log.20230223113546</td>\n",
       "    </tr>\n",
       "    <tr>\n",
       "      <th>2</th>\n",
       "      <td>2023-02-23 11:37:12.687914</td>\n",
       "      <td>WIDE-20150315023406-crawl803</td>\n",
       "      <td>WIDE-20150315025610-00051.warc.gz</td>\n",
       "      <td>./WIDE-20150315023406-crawl803/WIDE-2015031502...</td>\n",
       "      <td>1.000004e+09</td>\n",
       "      <td>84.0</td>\n",
       "      <td>c04231de44879a705d5f51f2d130eece</td>\n",
       "      <td>NaN</td>\n",
       "      <td>ia-download.log.20230223113546</td>\n",
       "    </tr>\n",
       "    <tr>\n",
       "      <th>3</th>\n",
       "      <td>2023-02-23 11:37:24.896855</td>\n",
       "      <td>WIDE-20150315043804-crawl422</td>\n",
       "      <td>WIDE-20150315050515-00090.warc.gz</td>\n",
       "      <td>./WIDE-20150315043804-crawl422/WIDE-2015031505...</td>\n",
       "      <td>1.001301e+09</td>\n",
       "      <td>97.0</td>\n",
       "      <td>6d6754be83dd218d8bbaf601f8a6a4df</td>\n",
       "      <td>NaN</td>\n",
       "      <td>ia-download.log.20230223113546</td>\n",
       "    </tr>\n",
       "    <tr>\n",
       "      <th>4</th>\n",
       "      <td>2023-02-23 11:37:40.319762</td>\n",
       "      <td>WIDE-20150315031230-crawl338</td>\n",
       "      <td>WIDE-20150315040351-00045.warc.gz</td>\n",
       "      <td>./WIDE-20150315031230-crawl338/WIDE-2015031504...</td>\n",
       "      <td>1.000035e+09</td>\n",
       "      <td>112.0</td>\n",
       "      <td>5eaff5163964c2131d09fe2634e6256f</td>\n",
       "      <td>NaN</td>\n",
       "      <td>ia-download.log.20230223113546</td>\n",
       "    </tr>\n",
       "    <tr>\n",
       "      <th>...</th>\n",
       "      <td>...</td>\n",
       "      <td>...</td>\n",
       "      <td>...</td>\n",
       "      <td>...</td>\n",
       "      <td>...</td>\n",
       "      <td>...</td>\n",
       "      <td>...</td>\n",
       "      <td>...</td>\n",
       "      <td>...</td>\n",
       "    </tr>\n",
       "    <tr>\n",
       "      <th>164064</th>\n",
       "      <td>2023-02-27 21:18:00.802069</td>\n",
       "      <td>WIDE-20150412061311-crawl809</td>\n",
       "      <td>WIDE-20150412062210-02026.warc.gz</td>\n",
       "      <td>./WIDE-20150412061311-crawl809/WIDE-2015041206...</td>\n",
       "      <td>1.051029e+09</td>\n",
       "      <td>1244.0</td>\n",
       "      <td>ff55feea996550cd3b87c02e223c36d7</td>\n",
       "      <td>NaN</td>\n",
       "      <td>ia-download.log.20230223113546</td>\n",
       "    </tr>\n",
       "    <tr>\n",
       "      <th>164065</th>\n",
       "      <td>2023-02-27 21:18:08.816644</td>\n",
       "      <td>WIDE-20150412051041-crawl424</td>\n",
       "      <td>WIDE-20150412055318-05816.warc.gz</td>\n",
       "      <td>./WIDE-20150412051041-crawl424/WIDE-2015041205...</td>\n",
       "      <td>1.000002e+09</td>\n",
       "      <td>2424.0</td>\n",
       "      <td>98df646805878b195603ac992eaa862e</td>\n",
       "      <td>NaN</td>\n",
       "      <td>ia-download.log.20230223113546</td>\n",
       "    </tr>\n",
       "    <tr>\n",
       "      <th>164066</th>\n",
       "      <td>2023-02-27 21:18:13.056730</td>\n",
       "      <td>WIDE-20150412051041-crawl424</td>\n",
       "      <td>WIDE-20150412060114-05818.warc.gz</td>\n",
       "      <td>./WIDE-20150412051041-crawl424/WIDE-2015041206...</td>\n",
       "      <td>1.000003e+09</td>\n",
       "      <td>2414.0</td>\n",
       "      <td>b3f2537e6563786f3c2366eebd722931</td>\n",
       "      <td>NaN</td>\n",
       "      <td>ia-download.log.20230223113546</td>\n",
       "    </tr>\n",
       "    <tr>\n",
       "      <th>164067</th>\n",
       "      <td>2023-02-27 21:18:13.145554</td>\n",
       "      <td>WIDE-20150412061427-crawl424</td>\n",
       "      <td>WIDE-20150412061427-05822.warc.gz</td>\n",
       "      <td>./WIDE-20150412061427-crawl424/WIDE-2015041206...</td>\n",
       "      <td>1.000003e+09</td>\n",
       "      <td>1244.0</td>\n",
       "      <td>068bc413a2dc65d5ff5227d316d8cda7</td>\n",
       "      <td>NaN</td>\n",
       "      <td>ia-download.log.20230223113546</td>\n",
       "    </tr>\n",
       "    <tr>\n",
       "      <th>164068</th>\n",
       "      <td>2023-02-27 21:18:14.412135</td>\n",
       "      <td>WIDE-20150412070943-crawl427</td>\n",
       "      <td>WIDE-20150412070943-06334.warc.gz</td>\n",
       "      <td>./WIDE-20150412070943-crawl427/WIDE-2015041207...</td>\n",
       "      <td>1.000026e+09</td>\n",
       "      <td>131.0</td>\n",
       "      <td>65f74c5f4122d8cda801a689f09e2ca5</td>\n",
       "      <td>NaN</td>\n",
       "      <td>ia-download.log.20230223113546</td>\n",
       "    </tr>\n",
       "  </tbody>\n",
       "</table>\n",
       "<p>164069 rows × 9 columns</p>\n",
       "</div>"
      ],
      "text/plain": [
       "                               ts                          item  \\\n",
       "0      2023-02-23 11:37:11.695005  WIDE-20150315001948-crawl800   \n",
       "1      2023-02-23 11:37:12.416287  WIDE-20150315043804-crawl422   \n",
       "2      2023-02-23 11:37:12.687914  WIDE-20150315023406-crawl803   \n",
       "3      2023-02-23 11:37:24.896855  WIDE-20150315043804-crawl422   \n",
       "4      2023-02-23 11:37:40.319762  WIDE-20150315031230-crawl338   \n",
       "...                           ...                           ...   \n",
       "164064 2023-02-27 21:18:00.802069  WIDE-20150412061311-crawl809   \n",
       "164065 2023-02-27 21:18:08.816644  WIDE-20150412051041-crawl424   \n",
       "164066 2023-02-27 21:18:13.056730  WIDE-20150412051041-crawl424   \n",
       "164067 2023-02-27 21:18:13.145554  WIDE-20150412061427-crawl424   \n",
       "164068 2023-02-27 21:18:14.412135  WIDE-20150412070943-crawl427   \n",
       "\n",
       "                                     file  \\\n",
       "0       WIDE-20150315005646-00028.warc.gz   \n",
       "1       WIDE-20150315044302-00086.warc.gz   \n",
       "2       WIDE-20150315025610-00051.warc.gz   \n",
       "3       WIDE-20150315050515-00090.warc.gz   \n",
       "4       WIDE-20150315040351-00045.warc.gz   \n",
       "...                                   ...   \n",
       "164064  WIDE-20150412062210-02026.warc.gz   \n",
       "164065  WIDE-20150412055318-05816.warc.gz   \n",
       "164066  WIDE-20150412060114-05818.warc.gz   \n",
       "164067  WIDE-20150412061427-05822.warc.gz   \n",
       "164068  WIDE-20150412070943-06334.warc.gz   \n",
       "\n",
       "                                                     path          size  \\\n",
       "0       ./WIDE-20150315001948-crawl800/WIDE-2015031500...  1.000004e+09   \n",
       "1       ./WIDE-20150315043804-crawl422/WIDE-2015031504...  1.000035e+09   \n",
       "2       ./WIDE-20150315023406-crawl803/WIDE-2015031502...  1.000004e+09   \n",
       "3       ./WIDE-20150315043804-crawl422/WIDE-2015031505...  1.001301e+09   \n",
       "4       ./WIDE-20150315031230-crawl338/WIDE-2015031504...  1.000035e+09   \n",
       "...                                                   ...           ...   \n",
       "164064  ./WIDE-20150412061311-crawl809/WIDE-2015041206...  1.051029e+09   \n",
       "164065  ./WIDE-20150412051041-crawl424/WIDE-2015041205...  1.000002e+09   \n",
       "164066  ./WIDE-20150412051041-crawl424/WIDE-2015041206...  1.000003e+09   \n",
       "164067  ./WIDE-20150412061427-crawl424/WIDE-2015041206...  1.000003e+09   \n",
       "164068  ./WIDE-20150412070943-crawl427/WIDE-2015041207...  1.000026e+09   \n",
       "\n",
       "        download_sec                               md5 error  \\\n",
       "0               84.0  cabb12e072772465a8131e279d1da753   NaN   \n",
       "1               84.0  aa01ec2fd6ebdc0b043223aeb8f002d3   NaN   \n",
       "2               84.0  c04231de44879a705d5f51f2d130eece   NaN   \n",
       "3               97.0  6d6754be83dd218d8bbaf601f8a6a4df   NaN   \n",
       "4              112.0  5eaff5163964c2131d09fe2634e6256f   NaN   \n",
       "...              ...                               ...   ...   \n",
       "164064        1244.0  ff55feea996550cd3b87c02e223c36d7   NaN   \n",
       "164065        2424.0  98df646805878b195603ac992eaa862e   NaN   \n",
       "164066        2414.0  b3f2537e6563786f3c2366eebd722931   NaN   \n",
       "164067        1244.0  068bc413a2dc65d5ff5227d316d8cda7   NaN   \n",
       "164068         131.0  65f74c5f4122d8cda801a689f09e2ca5   NaN   \n",
       "\n",
       "                               logfile  \n",
       "0       ia-download.log.20230223113546  \n",
       "1       ia-download.log.20230223113546  \n",
       "2       ia-download.log.20230223113546  \n",
       "3       ia-download.log.20230223113546  \n",
       "4       ia-download.log.20230223113546  \n",
       "...                                ...  \n",
       "164064  ia-download.log.20230223113546  \n",
       "164065  ia-download.log.20230223113546  \n",
       "164066  ia-download.log.20230223113546  \n",
       "164067  ia-download.log.20230223113546  \n",
       "164068  ia-download.log.20230223113546  \n",
       "\n",
       "[164069 rows x 9 columns]"
      ]
     },
     "execution_count": 69,
     "metadata": {},
     "output_type": "execute_result"
    }
   ],
   "source": [
    "data"
   ]
  },
  {
   "cell_type": "code",
   "execution_count": 70,
   "id": "5e6381cf-2a90-4a36-ae43-6c9bb49b0632",
   "metadata": {},
   "outputs": [
    {
     "name": "stdout",
     "output_type": "stream",
     "text": [
      "<class 'pandas.core.frame.DataFrame'>\n",
      "RangeIndex: 164069 entries, 0 to 164068\n",
      "Data columns (total 9 columns):\n",
      " #   Column        Non-Null Count   Dtype         \n",
      "---  ------        --------------   -----         \n",
      " 0   ts            164069 non-null  datetime64[ns]\n",
      " 1   item          164069 non-null  object        \n",
      " 2   file          164069 non-null  object        \n",
      " 3   path          149912 non-null  object        \n",
      " 4   size          149912 non-null  float64       \n",
      " 5   download_sec  149912 non-null  float64       \n",
      " 6   md5           149912 non-null  object        \n",
      " 7   error         14157 non-null   object        \n",
      " 8   logfile       164069 non-null  object        \n",
      "dtypes: datetime64[ns](1), float64(2), object(6)\n",
      "memory usage: 11.3+ MB\n"
     ]
    }
   ],
   "source": [
    "data.info()"
   ]
  },
  {
   "cell_type": "code",
   "execution_count": 71,
   "id": "df02e8c2-b4de-4176-9d66-0b07a5ae141a",
   "metadata": {},
   "outputs": [],
   "source": [
    "data_per_hour = data.groupby(['logfile', data['ts'].dt.floor('H')])"
   ]
  },
  {
   "cell_type": "markdown",
   "id": "dcf995cb-4f46-41ea-86bf-51efc9114fbe",
   "metadata": {},
   "source": [
    "# Download time"
   ]
  },
  {
   "cell_type": "code",
   "execution_count": 72,
   "id": "7e7b7273-a7bd-4521-a3ad-b81bcedea67b",
   "metadata": {},
   "outputs": [
    {
     "data": {
      "text/html": [
       "\n",
       "  <div id=\"87185187-785c-4c2c-8211-2ef94a761a62\" data-root-id=\"p15546\" style=\"display: contents;\"></div>\n"
      ]
     },
     "metadata": {},
     "output_type": "display_data"
    },
    {
     "data": {
      "application/javascript": [
       "(function(root) {\n",
       "  function embed_document(root) {\n",
       "  const docs_json = {\"2c601ee4-895a-4d01-aa91-b03d3612803c\":{\"version\":\"3.0.3\",\"title\":\"Bokeh Application\",\"defs\":[],\"roots\":[{\"type\":\"object\",\"name\":\"Figure\",\"id\":\"p15546\",\"attributes\":{\"x_range\":{\"type\":\"object\",\"name\":\"DataRange1d\",\"id\":\"p15547\"},\"y_range\":{\"type\":\"object\",\"name\":\"DataRange1d\",\"id\":\"p15548\"},\"x_scale\":{\"type\":\"object\",\"name\":\"LinearScale\",\"id\":\"p15560\"},\"y_scale\":{\"type\":\"object\",\"name\":\"LinearScale\",\"id\":\"p15562\"},\"title\":{\"type\":\"object\",\"name\":\"Title\",\"id\":\"p15549\",\"attributes\":{\"text\":\"Download time (binned)\"}},\"renderers\":[{\"type\":\"object\",\"name\":\"GlyphRenderer\",\"id\":\"p15599\",\"attributes\":{\"data_source\":{\"type\":\"object\",\"name\":\"ColumnDataSource\",\"id\":\"p15593\",\"attributes\":{\"selected\":{\"type\":\"object\",\"name\":\"Selection\",\"id\":\"p15595\",\"attributes\":{\"indices\":[],\"line_indices\":[]}},\"selection_policy\":{\"type\":\"object\",\"name\":\"UnionRenderers\",\"id\":\"p15594\"},\"data\":{\"type\":\"map\",\"entries\":[[\"top\",{\"type\":\"ndarray\",\"array\":{\"type\":\"bytes\",\"data\":\"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\"},\"shape\":[199],\"dtype\":\"float64\",\"order\":\"little\"}],[\"left\",{\"type\":\"ndarray\",\"array\":{\"type\":\"bytes\",\"data\":\"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\"},\"shape\":[199],\"dtype\":\"float64\",\"order\":\"little\"}],[\"right\",{\"type\":\"ndarray\",\"array\":{\"type\":\"bytes\",\"data\":\"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\"},\"shape\":[199],\"dtype\":\"float64\",\"order\":\"little\"}]]}}},\"view\":{\"type\":\"object\",\"name\":\"CDSView\",\"id\":\"p15600\",\"attributes\":{\"filter\":{\"type\":\"object\",\"name\":\"AllIndices\",\"id\":\"p15601\"}}},\"glyph\":{\"type\":\"object\",\"name\":\"Quad\",\"id\":\"p15596\",\"attributes\":{\"left\":{\"type\":\"field\",\"field\":\"left\"},\"right\":{\"type\":\"field\",\"field\":\"right\"},\"bottom\":{\"type\":\"value\",\"value\":0},\"top\":{\"type\":\"field\",\"field\":\"top\"},\"line_color\":{\"type\":\"value\",\"value\":\"#1f77b4\"},\"fill_color\":{\"type\":\"value\",\"value\":\"#1f77b4\"}}},\"nonselection_glyph\":{\"type\":\"object\",\"name\":\"Quad\",\"id\":\"p15597\",\"attributes\":{\"left\":{\"type\":\"field\",\"field\":\"left\"},\"right\":{\"type\":\"field\",\"field\":\"right\"},\"bottom\":{\"type\":\"value\",\"value\":0},\"top\":{\"type\":\"field\",\"field\":\"top\"},\"line_color\":{\"type\":\"value\",\"value\":\"#1f77b4\"},\"line_alpha\":{\"type\":\"value\",\"value\":0.1},\"fill_color\":{\"type\":\"value\",\"value\":\"#1f77b4\"},\"fill_alpha\":{\"type\":\"value\",\"value\":0.1},\"hatch_alpha\":{\"type\":\"value\",\"value\":0.1}}},\"muted_glyph\":{\"type\":\"object\",\"name\":\"Quad\",\"id\":\"p15598\",\"attributes\":{\"left\":{\"type\":\"field\",\"field\":\"left\"},\"right\":{\"type\":\"field\",\"field\":\"right\"},\"bottom\":{\"type\":\"value\",\"value\":0},\"top\":{\"type\":\"field\",\"field\":\"top\"},\"line_color\":{\"type\":\"value\",\"value\":\"#1f77b4\"},\"line_alpha\":{\"type\":\"value\",\"value\":0.2},\"fill_color\":{\"type\":\"value\",\"value\":\"#1f77b4\"},\"fill_alpha\":{\"type\":\"value\",\"value\":0.2},\"hatch_alpha\":{\"type\":\"value\",\"value\":0.2}}}}}],\"toolbar\":{\"type\":\"object\",\"name\":\"Toolbar\",\"id\":\"p15553\",\"attributes\":{\"tools\":[{\"type\":\"object\",\"name\":\"PanTool\",\"id\":\"p15578\"},{\"type\":\"object\",\"name\":\"WheelZoomTool\",\"id\":\"p15579\"},{\"type\":\"object\",\"name\":\"BoxZoomTool\",\"id\":\"p15580\",\"attributes\":{\"overlay\":{\"type\":\"object\",\"name\":\"BoxAnnotation\",\"id\":\"p15581\",\"attributes\":{\"syncable\":false,\"level\":\"overlay\",\"visible\":false,\"left_units\":\"canvas\",\"right_units\":\"canvas\",\"bottom_units\":\"canvas\",\"top_units\":\"canvas\",\"line_color\":\"black\",\"line_alpha\":1.0,\"line_width\":2,\"line_dash\":[4,4],\"fill_color\":\"lightgrey\",\"fill_alpha\":0.5}}}},{\"type\":\"object\",\"name\":\"SaveTool\",\"id\":\"p15582\"},{\"type\":\"object\",\"name\":\"ResetTool\",\"id\":\"p15583\"},{\"type\":\"object\",\"name\":\"HelpTool\",\"id\":\"p15584\"}]}},\"left\":[{\"type\":\"object\",\"name\":\"LinearAxis\",\"id\":\"p15571\",\"attributes\":{\"ticker\":{\"type\":\"object\",\"name\":\"BasicTicker\",\"id\":\"p15574\",\"attributes\":{\"mantissas\":[1,2,5]}},\"formatter\":{\"type\":\"object\",\"name\":\"BasicTickFormatter\",\"id\":\"p15573\"},\"axis_label\":\"Density\",\"major_label_policy\":{\"type\":\"object\",\"name\":\"AllLabels\",\"id\":\"p15572\"}}}],\"below\":[{\"type\":\"object\",\"name\":\"LinearAxis\",\"id\":\"p15564\",\"attributes\":{\"ticker\":{\"type\":\"object\",\"name\":\"BasicTicker\",\"id\":\"p15567\",\"attributes\":{\"mantissas\":[1,2,5]}},\"formatter\":{\"type\":\"object\",\"name\":\"BasicTickFormatter\",\"id\":\"p15566\"},\"axis_label\":\"Seconds\",\"major_label_policy\":{\"type\":\"object\",\"name\":\"AllLabels\",\"id\":\"p15565\"}}}],\"center\":[{\"type\":\"object\",\"name\":\"Grid\",\"id\":\"p15570\",\"attributes\":{\"axis\":{\"id\":\"p15564\"}}},{\"type\":\"object\",\"name\":\"Grid\",\"id\":\"p15577\",\"attributes\":{\"dimension\":1,\"axis\":{\"id\":\"p15571\"}}}]}}]}};\n",
       "  const render_items = [{\"docid\":\"2c601ee4-895a-4d01-aa91-b03d3612803c\",\"roots\":{\"p15546\":\"87185187-785c-4c2c-8211-2ef94a761a62\"},\"root_ids\":[\"p15546\"]}];\n",
       "  root.Bokeh.embed.embed_items_notebook(docs_json, render_items);\n",
       "  }\n",
       "  if (root.Bokeh !== undefined) {\n",
       "    embed_document(root);\n",
       "  } else {\n",
       "    let attempts = 0;\n",
       "    const timer = setInterval(function(root) {\n",
       "      if (root.Bokeh !== undefined) {\n",
       "        clearInterval(timer);\n",
       "        embed_document(root);\n",
       "      } else {\n",
       "        attempts++;\n",
       "        if (attempts > 100) {\n",
       "          clearInterval(timer);\n",
       "          console.log(\"Bokeh: ERROR: Unable to run BokehJS code because BokehJS library is missing\");\n",
       "        }\n",
       "      }\n",
       "    }, 10, root)\n",
       "  }\n",
       "})(window);"
      ],
      "application/vnd.bokehjs_exec.v0+json": ""
     },
     "metadata": {
      "application/vnd.bokehjs_exec.v0+json": {
       "id": "p15546"
      }
     },
     "output_type": "display_data"
    }
   ],
   "source": [
    "p = figure(title=\"Download time (binned)\",\n",
    "          x_axis_label=\"Seconds\",\n",
    "          y_axis_label=\"Density\")\n",
    "# downloads = data[data['error'].isna() & (data['logfile'] == 'ia-download.log.20221231114150')]\n",
    "downloads = data\n",
    "bins = np.linspace(0, 3600, 200)\n",
    "hist, edges = np.histogram(downloads['download_sec'], density=True, bins=bins)\n",
    "p.quad(top=hist, bottom=0, left=edges[:-1], right=edges[1:])\n",
    "show(p)\n"
   ]
  },
  {
   "cell_type": "markdown",
   "id": "29a93f46-0a20-4b5d-b017-cae4529e8c7c",
   "metadata": {},
   "source": [
    "Seconds it takes to download a file. Looks like there are multiple humps hidden in this graph. I expect that if you'd graph them per log file you'll see slightly different means."
   ]
  },
  {
   "cell_type": "code",
   "execution_count": 73,
   "id": "54322d3e-01ef-4667-927f-a4cf7eb00fa6",
   "metadata": {},
   "outputs": [],
   "source": [
    "# Scatter plot of all individual downloads. Too large to load now.\n",
    "# from bokeh.models import DatetimeTickFormatter\n",
    "# p = figure(title=\"Download time (over time)\",\n",
    "#            x_axis_type=\"datetime\",\n",
    "#            x_axis_label=\"Time\",\n",
    "#            y_axis_label=\"Duration (seconds)\",\n",
    "#            y_range=(0, 2*3600),\n",
    "#            sizing_mode=\"stretch_width\",\n",
    "#            height=250,)\n",
    "# p.circle(x='ts', y='download_sec', fill_alpha=0.1, color=factor_cmap('logfile', palette=Bright6, factors=data['logfile'].unique()), source=ColumnDataSource(data))\n",
    "# p.line(x='ts', y='avg_download_sec',\n",
    "#        source=ColumnDataSource(data_per_hour['download_sec'].mean().reset_index(name='avg_download_sec')),\n",
    "#        color='red', width=2)\n",
    "# show(p)"
   ]
  },
  {
   "cell_type": "code",
   "execution_count": 74,
   "id": "bd565857-f8fc-42f7-a172-471d84fef389",
   "metadata": {},
   "outputs": [],
   "source": [
    "Colors = {\n",
    "    **Category20,\n",
    "    1: ('#1f77b4',),\n",
    "    2: ('#1f77b4', '#aec7e8'),\n",
    "}"
   ]
  },
  {
   "cell_type": "code",
   "execution_count": 75,
   "id": "7a9e4ae8-b54f-4145-9240-a244b596733c",
   "metadata": {},
   "outputs": [],
   "source": [
    "def lines(p, x, y, color_field, data, *, palette=Colors, legend=False):\n",
    "    \"\"\"Helper function to plot groups as separete lines\"\"\"\n",
    "    groups = data[color_field].unique()\n",
    "    for color, group in zip(palette[len(groups)], groups):\n",
    "        p.line(x, y, color=color, source=ColumnDataSource(data[data[color_field]==group]), **(dict(legend_label=group) if legend else dict()))"
   ]
  },
  {
   "cell_type": "code",
   "execution_count": 76,
   "id": "41c374e3-8764-4036-a805-77dc4ee7be6e",
   "metadata": {},
   "outputs": [
    {
     "data": {
      "text/html": [
       "\n",
       "  <div id=\"d6457e4c-a9f0-4b6b-a59d-dc52ea91bd3c\" data-root-id=\"p16524\" style=\"display: contents;\"></div>\n"
      ]
     },
     "metadata": {},
     "output_type": "display_data"
    },
    {
     "data": {
      "application/javascript": [
       "(function(root) {\n",
       "  function embed_document(root) {\n",
       "  const docs_json = {\"d55ba203-6e84-4e7a-a811-7ce2252735c9\":{\"version\":\"3.0.3\",\"title\":\"Bokeh Application\",\"defs\":[],\"roots\":[{\"type\":\"object\",\"name\":\"Figure\",\"id\":\"p16524\",\"attributes\":{\"height\":250,\"sizing_mode\":\"stretch_width\",\"x_range\":{\"type\":\"object\",\"name\":\"DataRange1d\",\"id\":\"p16525\"},\"y_range\":{\"type\":\"object\",\"name\":\"DataRange1d\",\"id\":\"p16526\"},\"x_scale\":{\"type\":\"object\",\"name\":\"LinearScale\",\"id\":\"p16538\"},\"y_scale\":{\"type\":\"object\",\"name\":\"LinearScale\",\"id\":\"p16540\"},\"title\":{\"type\":\"object\",\"name\":\"Title\",\"id\":\"p16527\",\"attributes\":{\"text\":\"Fraction of downloads that fail (over time, per hour)\"}},\"renderers\":[{\"type\":\"object\",\"name\":\"GlyphRenderer\",\"id\":\"p16616\",\"attributes\":{\"data_source\":{\"type\":\"object\",\"name\":\"ColumnDataSource\",\"id\":\"p16607\",\"attributes\":{\"selected\":{\"type\":\"object\",\"name\":\"Selection\",\"id\":\"p16609\",\"attributes\":{\"indices\":[],\"line_indices\":[]}},\"selection_policy\":{\"type\":\"object\",\"name\":\"UnionRenderers\",\"id\":\"p16608\"},\"data\":{\"type\":\"map\",\"entries\":[[\"index\",{\"type\":\"ndarray\",\"array\":{\"type\":\"bytes\",\"data\":\"AAAAAAEAAAACAAAAAwAAAAQAAAAFAAAABgAAAAcAAAAIAAAACQAAAAoAAAALAAAADAAAAA0AAAAOAAAADwAAABAAAAARAAAAEgAAABMAAAAUAAAAFQAAABYAAAAXAAAAGAAAABkAAAAaAAAAGwAAABwAAAAdAAAAHgAAAB8AAAAgAAAAIQAAACIAAAAjAAAAJAAAACUAAAAmAAAAJwAAACgAAAApAAAAKgAAACsAAAAsAAAALQAAAC4AAAAvAAAAMAAAADEAAAAyAAAAMwAAADQAAAA1AAAANgAAADcAAAA4AAAAOQAAADoAAAA7AAAAPAAAAD0AAAA+AAAAPwAAAEAAAABBAAAAQgAAAEMAAABEAAAARQAAAEYAAABHAAAASAAAAEkAAABKAAAASwAAAEwAAABNAAAATgAAAE8AAABQAAAAUQAAAFIAAABTAAAAVAAAAFUAAABWAAAAVwAAAFgAAABZAAAAWgAAAFsAAABcAAAAXQAAAF4AAABfAAAAYAAAAGEAAABiAAAAYwAAAGQAAABlAAAAZgAAAGcAAABoAAAAaQAAAGoAAAA=\"},\"shape\":[107],\"dtype\":\"int32\",\"order\":\"little\"}],[\"logfile\",{\"type\":\"ndarray\",\"array\":[\"ia-download.log.20230223113546\",\"ia-download.log.20230223113546\",\"ia-download.log.20230223113546\",\"ia-download.log.20230223113546\",\"ia-download.log.20230223113546\",\"ia-download.log.20230223113546\",\"ia-download.log.20230223113546\",\"ia-download.log.20230223113546\",\"ia-download.log.20230223113546\",\"ia-download.log.20230223113546\",\"ia-download.log.20230223113546\",\"ia-download.log.20230223113546\",\"ia-download.log.20230223113546\",\"ia-download.log.20230223113546\",\"ia-download.log.20230223113546\",\"ia-download.log.20230223113546\",\"ia-download.log.20230223113546\",\"ia-download.log.20230223113546\",\"ia-download.log.20230223113546\",\"ia-download.log.20230223113546\",\"ia-download.log.20230223113546\",\"ia-download.log.20230223113546\",\"ia-download.log.20230223113546\",\"ia-download.log.20230223113546\",\"ia-download.log.20230223113546\",\"ia-download.log.20230223113546\",\"ia-download.log.20230223113546\",\"ia-download.log.20230223113546\",\"ia-download.log.20230223113546\",\"ia-download.log.20230223113546\",\"ia-download.log.20230223113546\",\"ia-download.log.20230223113546\",\"ia-download.log.20230223113546\",\"ia-download.log.20230223113546\",\"ia-download.log.20230223113546\",\"ia-download.log.20230223113546\",\"ia-download.log.20230223113546\",\"ia-download.log.20230223113546\",\"ia-download.log.20230223113546\",\"ia-download.log.20230223113546\",\"ia-download.log.20230223113546\",\"ia-download.log.20230223113546\",\"ia-download.log.20230223113546\",\"ia-download.log.20230223113546\",\"ia-download.log.20230223113546\",\"ia-download.log.20230223113546\",\"ia-download.log.20230223113546\",\"ia-download.log.20230223113546\",\"ia-download.log.20230223113546\",\"ia-download.log.20230223113546\",\"ia-download.log.20230223113546\",\"ia-download.log.20230223113546\",\"ia-download.log.20230223113546\",\"ia-download.log.20230223113546\",\"ia-download.log.20230223113546\",\"ia-download.log.20230223113546\",\"ia-download.log.20230223113546\",\"ia-download.log.20230223113546\",\"ia-download.log.20230223113546\",\"ia-download.log.20230223113546\",\"ia-download.log.20230223113546\",\"ia-download.log.20230223113546\",\"ia-download.log.20230223113546\",\"ia-download.log.20230223113546\",\"ia-download.log.20230223113546\",\"ia-download.log.20230223113546\",\"ia-download.log.20230223113546\",\"ia-download.log.20230223113546\",\"ia-download.log.20230223113546\",\"ia-download.log.20230223113546\",\"ia-download.log.20230223113546\",\"ia-download.log.20230223113546\",\"ia-download.log.20230223113546\",\"ia-download.log.20230223113546\",\"ia-download.log.20230223113546\",\"ia-download.log.20230223113546\",\"ia-download.log.20230223113546\",\"ia-download.log.20230223113546\",\"ia-download.log.20230223113546\",\"ia-download.log.20230223113546\",\"ia-download.log.20230223113546\",\"ia-download.log.20230223113546\",\"ia-download.log.20230223113546\",\"ia-download.log.20230223113546\",\"ia-download.log.20230223113546\",\"ia-download.log.20230223113546\",\"ia-download.log.20230223113546\",\"ia-download.log.20230223113546\",\"ia-download.log.20230223113546\",\"ia-download.log.20230223113546\",\"ia-download.log.20230223113546\",\"ia-download.log.20230223113546\",\"ia-download.log.20230223113546\",\"ia-download.log.20230223113546\",\"ia-download.log.20230223113546\",\"ia-download.log.20230223113546\",\"ia-download.log.20230223113546\",\"ia-download.log.20230223113546\",\"ia-download.log.20230223113546\",\"ia-download.log.20230223113546\",\"ia-download.log.20230223113546\",\"ia-download.log.20230223113546\",\"ia-download.log.20230223113546\",\"ia-download.log.20230223113546\",\"ia-download.log.20230223113546\",\"ia-download.log.20230223113546\",\"ia-download.log.20230223113546\"],\"shape\":[107],\"dtype\":\"object\",\"order\":\"little\"}],[\"ts\",{\"type\":\"ndarray\",\"array\":{\"type\":\"bytes\",\"data\":\"AAA44d5neEIAACBQ4md4QgAACL/lZ3hCAADwLelneEIAANic7Gd4QgAAwAvwZ3hCAACoevNneEIAAJDp9md4QgAAeFj6Z3hCAABgx/1neEIAAEg2AWh4QgAAMKUEaHhCAAAYFAhoeEIAAACDC2h4QgAA6PEOaHhCAADQYBJoeEIAALjPFWh4QgAAoD4ZaHhCAACIrRxoeEIAAHAcIGh4QgAAWIsjaHhCAABA+iZoeEIAAChpKmh4QgAAENgtaHhCAAD4RjFoeEIAAOC1NGh4QgAAyCQ4aHhCAACwkztoeEIAAJgCP2h4QgAAgHFCaHhCAABo4EVoeEIAAFBPSWh4QgAAOL5MaHhCAAAgLVBoeEIAAAicU2h4QgAA8ApXaHhCAADYeVpoeEIAAMDoXWh4QgAAqFdhaHhCAACQxmRoeEIAAHg1aGh4QgAAYKRraHhCAABIE29oeEIAADCCcmh4QgAAGPF1aHhCAAAAYHloeEIAAOjOfGh4QgAA0D2AaHhCAAC4rINoeEIAAKAbh2h4QgAAiIqKaHhCAABw+Y1oeEIAAFhokWh4QgAAQNeUaHhCAAAoRphoeEIAABC1m2h4QgAA+COfaHhCAADgkqJoeEIAAMgBpmh4QgAAsHCpaHhCAACY36xoeEIAAIBOsGh4QgAAaL2zaHhCAABQLLdoeEIAADibumh4QgAAIAq+aHhCAAAIecFoeEIAAPDnxGh4QgAA2FbIaHhCAADAxctoeEIAAKg0z2h4QgAAkKPSaHhCAAB4EtZoeEIAAGCB2Wh4QgAASPDcaHhCAAAwX+BoeEIAABjO42h4QgAAAD3naHhCAADoq+poeEIAANAa7mh4QgAAuInxaHhCAACg+PRoeEIAAIhn+Gh4QgAAcNb7aHhCAABYRf9oeEIAAEC0Aml4QgAAKCMGaXhCAAAQkglpeEIAAPgADWl4QgAA4G8QaXhCAADI3hNpeEIAALBNF2l4QgAAmLwaaXhCAACAKx5peEIAAGiaIWl4QgAAUAklaXhCAAA4eChpeEIAACDnK2l4QgAACFYvaXhCAADwxDJpeEIAANgzNml4QgAAwKI5aXhCAACoET1peEIAAJCAQGl4QgAAeO9DaXhCAABgXkdpeEIAAEjNSml4Qg==\"},\"shape\":[107],\"dtype\":\"float64\",\"order\":\"little\"}],[\"errors\",{\"type\":\"ndarray\",\"array\":{\"type\":\"bytes\",\"data\":\"FwAAAFQAAACuAAAAqgAAALUAAACKAAAAlgAAAIIAAACrAAAAcAAAAJAAAAB3AAAAhgAAAIkAAACnAAAAvgAAAKIAAADrAAAAowAAAKsAAADYAAAAYwAAAJAAAACVAAAAdgAAAG0AAACJAAAAjQAAALoAAACUAAAAiwAAAKEAAACWAAAAjQAAAJMAAACMAAAAcwAAAHYAAACJAAAAfQAAAIYAAAB1AAAAfwAAAJIAAACDAAAAiAAAAK0AAACPAAAApAAAAJEAAADKAAAAjQAAAG8AAABqAAAAWgAAADcAAABXAAAALwAAAEwAAABeAAAARwAAAE8AAACEAAAAagAAAGsAAABxAAAAjQAAAOEAAAAJAQAAJAEAAO0AAAADAQAA8AAAANQAAACWAAAAhQAAAH8AAACIAAAAUAAAAEoAAABZAAAAUQAAAFAAAABjAAAAgAAAAGcAAAA5AAAARwAAAEoAAABSAAAAqQAAALcAAACiAAAAvAAAANoAAACuAAAAigAAAGQAAABsAAAATAAAAFcAAABhAAAAOQAAACsAAABCAAAALwAAAAEAAAA=\"},\"shape\":[107],\"dtype\":\"int32\",\"order\":\"little\"}],[\"error_rate\",{\"type\":\"ndarray\",\"array\":{\"type\":\"bytes\",\"data\":\"cLYO/WbroD9jPSFMbISmPxCNukpIjrc//+U2U1CPuD/Ww+ph9bC6P2Q5A6cxP7Y/df3iToNyuT/57VJPxm+3P9d9klOKYLs/G5oMO8QptD95nLVqEKC4PzsVq1OxOrU/WAvNKz9itz/pRDFsu822P0/oQsJB+rc/DdHyvUSPuT/ieYchnne4P/imUuJwS8A/4nBL0MOatj8RQgghhBC2P8h8NB4nvbo/RyIgPpqQpz/vQiWOho+wP5AsSBYkC7I/L6aOO3RWrD/atGnTpk2rP7cwik52BrE/pMLwtV3Zsj8lSZIkSZK6P5ze9KY3vbk/m+nVmunVuj+gyVAE1cq7P6ktfcS7prk/ZIKgvtz6uD/inQoOAiy5P0PIWAofXbc/oNMGOm2gsz9RLFePxSezP1NOw0D7Obc/siSCZfButT/LNrQVuta3P++7opIWebQ/HKsywxUZtT9su82WO024P2ntqFpKXLU/OQUvp+DltD/NDqLR7CC6P8ZLae9tGrQ/54XnvPCctz+24AidVxq1P4UHnXIRYr4/ZSxb6Or7tz+vCZCedmS2P00obJrFy7U/t95LT9oGtj+Fvrf/IgyvP/VM5brjxbY/QxU5hGZgqz+Q64dey2qzP+WDJfXFLbY/xFvHzrSPsT/NCWeURwKyP9DQZ+gz9Lk/RU+hMFb0tD+oPSr4kTmyPzE9RfW/8bI/iBRaMBZZtz/d0wjLPY3AP+UBCn4s68E/62jzPsUlwz+oeWsQJnu9Pwpj2SEtPMA/DNCMJSxyvj9Q9sBCgSK8P+vBJLIJtbU/tCYKIG0YtT+Sjv1JiCm2PxsfO8a2Rro/W4T8NTtqsT+MiQ2YeeOxP2dh9/muLbM/bM5NkZDhsz9WEUFnHxm0Py5btmzZsrU/25QBiLBNuT8S6O48mba0P4UKFSpUqLA/EC0TRMsEsT9vfgsBo1SzPyu7BjMPzrE/UblldQL4uT/9UQoMDju6P9mGg0u6Z7Y/TPFHsleuuD+qc6sJkga7PxW5z8ob2LQ/EXbbn8SDrz+TnhHJMumpP6a1ZPOH8a4/MFgdwCU7pz8YcaLytNCtP7squXexq7I/o4suuuiiqz+cYGHcvAmmPwWhf3QbU7A/iBSZazJuqD8CS3r50xZqPw==\"},\"shape\":[107],\"dtype\":\"float64\",\"order\":\"little\"}]]}}},\"view\":{\"type\":\"object\",\"name\":\"CDSView\",\"id\":\"p16617\",\"attributes\":{\"filter\":{\"type\":\"object\",\"name\":\"AllIndices\",\"id\":\"p16618\"}}},\"glyph\":{\"type\":\"object\",\"name\":\"Line\",\"id\":\"p16613\",\"attributes\":{\"x\":{\"type\":\"field\",\"field\":\"ts\"},\"y\":{\"type\":\"field\",\"field\":\"error_rate\"},\"line_color\":\"#1f77b4\"}},\"nonselection_glyph\":{\"type\":\"object\",\"name\":\"Line\",\"id\":\"p16614\",\"attributes\":{\"x\":{\"type\":\"field\",\"field\":\"ts\"},\"y\":{\"type\":\"field\",\"field\":\"error_rate\"},\"line_color\":\"#1f77b4\",\"line_alpha\":0.1}},\"muted_glyph\":{\"type\":\"object\",\"name\":\"Line\",\"id\":\"p16615\",\"attributes\":{\"x\":{\"type\":\"field\",\"field\":\"ts\"},\"y\":{\"type\":\"field\",\"field\":\"error_rate\"},\"line_color\":\"#1f77b4\",\"line_alpha\":0.2}}}}],\"toolbar\":{\"type\":\"object\",\"name\":\"Toolbar\",\"id\":\"p16531\",\"attributes\":{\"tools\":[{\"type\":\"object\",\"name\":\"PanTool\",\"id\":\"p16592\"},{\"type\":\"object\",\"name\":\"WheelZoomTool\",\"id\":\"p16593\"},{\"type\":\"object\",\"name\":\"BoxZoomTool\",\"id\":\"p16594\",\"attributes\":{\"overlay\":{\"type\":\"object\",\"name\":\"BoxAnnotation\",\"id\":\"p16595\",\"attributes\":{\"syncable\":false,\"level\":\"overlay\",\"visible\":false,\"left_units\":\"canvas\",\"right_units\":\"canvas\",\"bottom_units\":\"canvas\",\"top_units\":\"canvas\",\"line_color\":\"black\",\"line_alpha\":1.0,\"line_width\":2,\"line_dash\":[4,4],\"fill_color\":\"lightgrey\",\"fill_alpha\":0.5}}}},{\"type\":\"object\",\"name\":\"SaveTool\",\"id\":\"p16596\"},{\"type\":\"object\",\"name\":\"ResetTool\",\"id\":\"p16597\"},{\"type\":\"object\",\"name\":\"HelpTool\",\"id\":\"p16598\"}]}},\"left\":[{\"type\":\"object\",\"name\":\"LinearAxis\",\"id\":\"p16585\",\"attributes\":{\"ticker\":{\"type\":\"object\",\"name\":\"BasicTicker\",\"id\":\"p16588\",\"attributes\":{\"mantissas\":[1,2,5]}},\"formatter\":{\"type\":\"object\",\"name\":\"BasicTickFormatter\",\"id\":\"p16587\"},\"axis_label\":\"Error rate\",\"major_label_policy\":{\"type\":\"object\",\"name\":\"AllLabels\",\"id\":\"p16586\"}}}],\"below\":[{\"type\":\"object\",\"name\":\"DatetimeAxis\",\"id\":\"p16542\",\"attributes\":{\"ticker\":{\"type\":\"object\",\"name\":\"DatetimeTicker\",\"id\":\"p16545\",\"attributes\":{\"num_minor_ticks\":5,\"tickers\":[{\"type\":\"object\",\"name\":\"AdaptiveTicker\",\"id\":\"p16546\",\"attributes\":{\"num_minor_ticks\":0,\"mantissas\":[1,2,5],\"max_interval\":500.0}},{\"type\":\"object\",\"name\":\"AdaptiveTicker\",\"id\":\"p16547\",\"attributes\":{\"num_minor_ticks\":0,\"base\":60,\"mantissas\":[1,2,5,10,15,20,30],\"min_interval\":1000.0,\"max_interval\":1800000.0}},{\"type\":\"object\",\"name\":\"AdaptiveTicker\",\"id\":\"p16548\",\"attributes\":{\"num_minor_ticks\":0,\"base\":24,\"mantissas\":[1,2,4,6,8,12],\"min_interval\":3600000.0,\"max_interval\":43200000.0}},{\"type\":\"object\",\"name\":\"DaysTicker\",\"id\":\"p16549\",\"attributes\":{\"days\":[1,2,3,4,5,6,7,8,9,10,11,12,13,14,15,16,17,18,19,20,21,22,23,24,25,26,27,28,29,30,31]}},{\"type\":\"object\",\"name\":\"DaysTicker\",\"id\":\"p16550\",\"attributes\":{\"days\":[1,4,7,10,13,16,19,22,25,28]}},{\"type\":\"object\",\"name\":\"DaysTicker\",\"id\":\"p16551\",\"attributes\":{\"days\":[1,8,15,22]}},{\"type\":\"object\",\"name\":\"DaysTicker\",\"id\":\"p16552\",\"attributes\":{\"days\":[1,15]}},{\"type\":\"object\",\"name\":\"MonthsTicker\",\"id\":\"p16553\",\"attributes\":{\"months\":[0,1,2,3,4,5,6,7,8,9,10,11]}},{\"type\":\"object\",\"name\":\"MonthsTicker\",\"id\":\"p16554\",\"attributes\":{\"months\":[0,2,4,6,8,10]}},{\"type\":\"object\",\"name\":\"MonthsTicker\",\"id\":\"p16555\",\"attributes\":{\"months\":[0,4,8]}},{\"type\":\"object\",\"name\":\"MonthsTicker\",\"id\":\"p16556\",\"attributes\":{\"months\":[0,6]}},{\"type\":\"object\",\"name\":\"YearsTicker\",\"id\":\"p16557\"}]}},\"formatter\":{\"type\":\"object\",\"name\":\"DatetimeTickFormatter\",\"id\":\"p16544\"},\"axis_label\":\"Hour\",\"major_label_policy\":{\"type\":\"object\",\"name\":\"AllLabels\",\"id\":\"p16543\"}}}],\"center\":[{\"type\":\"object\",\"name\":\"Grid\",\"id\":\"p16584\",\"attributes\":{\"axis\":{\"id\":\"p16542\"}}},{\"type\":\"object\",\"name\":\"Grid\",\"id\":\"p16591\",\"attributes\":{\"dimension\":1,\"axis\":{\"id\":\"p16585\"}}}]}}]}};\n",
       "  const render_items = [{\"docid\":\"d55ba203-6e84-4e7a-a811-7ce2252735c9\",\"roots\":{\"p16524\":\"d6457e4c-a9f0-4b6b-a59d-dc52ea91bd3c\"},\"root_ids\":[\"p16524\"]}];\n",
       "  root.Bokeh.embed.embed_items_notebook(docs_json, render_items);\n",
       "  }\n",
       "  if (root.Bokeh !== undefined) {\n",
       "    embed_document(root);\n",
       "  } else {\n",
       "    let attempts = 0;\n",
       "    const timer = setInterval(function(root) {\n",
       "      if (root.Bokeh !== undefined) {\n",
       "        clearInterval(timer);\n",
       "        embed_document(root);\n",
       "      } else {\n",
       "        attempts++;\n",
       "        if (attempts > 100) {\n",
       "          clearInterval(timer);\n",
       "          console.log(\"Bokeh: ERROR: Unable to run BokehJS code because BokehJS library is missing\");\n",
       "        }\n",
       "      }\n",
       "    }, 10, root)\n",
       "  }\n",
       "})(window);"
      ],
      "application/vnd.bokehjs_exec.v0+json": ""
     },
     "metadata": {
      "application/vnd.bokehjs_exec.v0+json": {
       "id": "p16524"
      }
     },
     "output_type": "display_data"
    }
   ],
   "source": [
    "errors_per_hour = data_per_hour['error'].count().reset_index(name='errors')\n",
    "\n",
    "requests_per_hour = data_per_hour.size().reset_index(name='requests')\n",
    "\n",
    "errors_per_hour['error_rate'] = errors_per_hour['errors'] / requests_per_hour['requests']\n",
    "\n",
    "p = figure(title=\"Fraction of downloads that fail (over time, per hour)\",\n",
    "           x_axis_type=\"datetime\",\n",
    "           x_axis_label=\"Hour\",\n",
    "           y_axis_label=\"Error rate\",\n",
    "           sizing_mode=\"stretch_width\",\n",
    "           height=250,)\n",
    "lines(p, 'ts', 'error_rate', 'logfile', errors_per_hour)\n",
    "show(p)"
   ]
  },
  {
   "cell_type": "markdown",
   "id": "11fb8d65-26e2-47c8-b8d9-06240b204854",
   "metadata": {},
   "source": [
    "Error rate seems to be about 10% of all downloads when downloading WIDE15 with 128 or 256 threads. The yellow bit at the end is WIDE6 with 64 threads, eventually failing on a certificate issue. Graph below splits errors out per category."
   ]
  },
  {
   "cell_type": "code",
   "execution_count": 77,
   "id": "2358c71b-792d-4068-a6b7-c36f2de2c8ff",
   "metadata": {},
   "outputs": [
    {
     "data": {
      "text/html": [
       "\n",
       "  <div id=\"2f3c9582-e995-4e83-aee5-39af507b790a\" data-root-id=\"p17702\" style=\"display: contents;\"></div>\n"
      ]
     },
     "metadata": {},
     "output_type": "display_data"
    },
    {
     "data": {
      "application/javascript": [
       "(function(root) {\n",
       "  function embed_document(root) {\n",
       "  const docs_json = {\"c394a340-0c56-475c-a843-b131c192b108\":{\"version\":\"3.0.3\",\"title\":\"Bokeh Application\",\"defs\":[],\"roots\":[{\"type\":\"object\",\"name\":\"Figure\",\"id\":\"p17702\",\"attributes\":{\"height\":250,\"sizing_mode\":\"stretch_width\",\"x_range\":{\"type\":\"object\",\"name\":\"DataRange1d\",\"id\":\"p17703\"},\"y_range\":{\"type\":\"object\",\"name\":\"DataRange1d\",\"id\":\"p17704\"},\"x_scale\":{\"type\":\"object\",\"name\":\"LinearScale\",\"id\":\"p17716\"},\"y_scale\":{\"type\":\"object\",\"name\":\"LinearScale\",\"id\":\"p17718\"},\"title\":{\"type\":\"object\",\"name\":\"Title\",\"id\":\"p17705\",\"attributes\":{\"text\":\"Errors per category (per hour)\"}},\"renderers\":[{\"type\":\"object\",\"name\":\"GlyphRenderer\",\"id\":\"p17794\",\"attributes\":{\"data_source\":{\"type\":\"object\",\"name\":\"ColumnDataSource\",\"id\":\"p17785\",\"attributes\":{\"selected\":{\"type\":\"object\",\"name\":\"Selection\",\"id\":\"p17787\",\"attributes\":{\"indices\":[],\"line_indices\":[]}},\"selection_policy\":{\"type\":\"object\",\"name\":\"UnionRenderers\",\"id\":\"p17786\"},\"data\":{\"type\":\"map\",\"entries\":[[\"index\",{\"type\":\"ndarray\",\"array\":{\"type\":\"bytes\",\"data\":\"AAAAAAEAAAACAAAAAwAAAAQAAAAFAAAA\"},\"shape\":[6],\"dtype\":\"int32\",\"order\":\"little\"}],[\"error_norm\",{\"type\":\"ndarray\",\"array\":[\"Bad Gateway\",\"Bad Gateway\",\"Bad Gateway\",\"Bad Gateway\",\"Bad Gateway\",\"Bad Gateway\"],\"shape\":[6],\"dtype\":\"object\",\"order\":\"little\"}],[\"ts\",{\"type\":\"ndarray\",\"array\":{\"type\":\"bytes\",\"data\":\"AADAC/BneEIAAJDp9md4QgAA6PEOaHhCAABwHCBoeEIAAFhF/2h4QgAAwKI5aXhC\"},\"shape\":[6],\"dtype\":\"float64\",\"order\":\"little\"}],[\"error_count\",{\"type\":\"ndarray\",\"array\":{\"type\":\"bytes\",\"data\":\"AQAAAAIAAAACAAAAAwAAAAIAAAABAAAA\"},\"shape\":[6],\"dtype\":\"int32\",\"order\":\"little\"}]]}}},\"view\":{\"type\":\"object\",\"name\":\"CDSView\",\"id\":\"p17795\",\"attributes\":{\"filter\":{\"type\":\"object\",\"name\":\"AllIndices\",\"id\":\"p17796\"}}},\"glyph\":{\"type\":\"object\",\"name\":\"Line\",\"id\":\"p17791\",\"attributes\":{\"x\":{\"type\":\"field\",\"field\":\"ts\"},\"y\":{\"type\":\"field\",\"field\":\"error_count\"},\"line_color\":\"#1f77b4\"}},\"nonselection_glyph\":{\"type\":\"object\",\"name\":\"Line\",\"id\":\"p17792\",\"attributes\":{\"x\":{\"type\":\"field\",\"field\":\"ts\"},\"y\":{\"type\":\"field\",\"field\":\"error_count\"},\"line_color\":\"#1f77b4\",\"line_alpha\":0.1}},\"muted_glyph\":{\"type\":\"object\",\"name\":\"Line\",\"id\":\"p17793\",\"attributes\":{\"x\":{\"type\":\"field\",\"field\":\"ts\"},\"y\":{\"type\":\"field\",\"field\":\"error_count\"},\"line_color\":\"#1f77b4\",\"line_alpha\":0.2}}}},{\"type\":\"object\",\"name\":\"GlyphRenderer\",\"id\":\"p17845\",\"attributes\":{\"data_source\":{\"type\":\"object\",\"name\":\"ColumnDataSource\",\"id\":\"p17836\",\"attributes\":{\"selected\":{\"type\":\"object\",\"name\":\"Selection\",\"id\":\"p17838\",\"attributes\":{\"indices\":[],\"line_indices\":[]}},\"selection_policy\":{\"type\":\"object\",\"name\":\"UnionRenderers\",\"id\":\"p17837\"},\"data\":{\"type\":\"map\",\"entries\":[[\"index\",{\"type\":\"ndarray\",\"array\":{\"type\":\"bytes\",\"data\":\"BgAAAAcAAAAIAAAACQAAAAoAAAALAAAADAAAAA0AAAAOAAAADwAAABAAAAARAAAAEgAAABMAAAAUAAAAFQAAABYAAAAXAAAAGAAAABkAAAAaAAAAGwAAABwAAAAdAAAAHgAAAB8AAAAgAAAAIQAAACIAAAAjAAAAJAAAACUAAAAmAAAAJwAAACgAAAApAAAAKgAAACsAAAAsAAAALQAAAC4AAAAvAAAAMAAAADEAAAAyAAAAMwAAADQAAAA1AAAANgAAADcAAAA4AAAAOQAAADoAAAA7AAAAPAAAAD0AAAA+AAAAPwAAAEAAAABBAAAAQgAAAEMAAABEAAAARQAAAEYAAABHAAAASAAAAEkAAABKAAAASwAAAEwAAABNAAAATgAAAE8AAABQAAAAUQAAAFIAAABTAAAAVAAAAFUAAABWAAAAVwAAAFgAAABZAAAAWgAAAFsAAABcAAAAXQAAAF4AAABfAAAAYAAAAGEAAABiAAAAYwAAAGQAAABlAAAAZgAAAGcAAABoAAAAaQAAAGoAAABrAAAAbAAAAG0AAABuAAAAbwAAAHAAAAA=\"},\"shape\":[107],\"dtype\":\"int32\",\"order\":\"little\"}],[\"error_norm\",{\"type\":\"ndarray\",\"array\":[\"md5 mismatch\",\"md5 mismatch\",\"md5 mismatch\",\"md5 mismatch\",\"md5 mismatch\",\"md5 mismatch\",\"md5 mismatch\",\"md5 mismatch\",\"md5 mismatch\",\"md5 mismatch\",\"md5 mismatch\",\"md5 mismatch\",\"md5 mismatch\",\"md5 mismatch\",\"md5 mismatch\",\"md5 mismatch\",\"md5 mismatch\",\"md5 mismatch\",\"md5 mismatch\",\"md5 mismatch\",\"md5 mismatch\",\"md5 mismatch\",\"md5 mismatch\",\"md5 mismatch\",\"md5 mismatch\",\"md5 mismatch\",\"md5 mismatch\",\"md5 mismatch\",\"md5 mismatch\",\"md5 mismatch\",\"md5 mismatch\",\"md5 mismatch\",\"md5 mismatch\",\"md5 mismatch\",\"md5 mismatch\",\"md5 mismatch\",\"md5 mismatch\",\"md5 mismatch\",\"md5 mismatch\",\"md5 mismatch\",\"md5 mismatch\",\"md5 mismatch\",\"md5 mismatch\",\"md5 mismatch\",\"md5 mismatch\",\"md5 mismatch\",\"md5 mismatch\",\"md5 mismatch\",\"md5 mismatch\",\"md5 mismatch\",\"md5 mismatch\",\"md5 mismatch\",\"md5 mismatch\",\"md5 mismatch\",\"md5 mismatch\",\"md5 mismatch\",\"md5 mismatch\",\"md5 mismatch\",\"md5 mismatch\",\"md5 mismatch\",\"md5 mismatch\",\"md5 mismatch\",\"md5 mismatch\",\"md5 mismatch\",\"md5 mismatch\",\"md5 mismatch\",\"md5 mismatch\",\"md5 mismatch\",\"md5 mismatch\",\"md5 mismatch\",\"md5 mismatch\",\"md5 mismatch\",\"md5 mismatch\",\"md5 mismatch\",\"md5 mismatch\",\"md5 mismatch\",\"md5 mismatch\",\"md5 mismatch\",\"md5 mismatch\",\"md5 mismatch\",\"md5 mismatch\",\"md5 mismatch\",\"md5 mismatch\",\"md5 mismatch\",\"md5 mismatch\",\"md5 mismatch\",\"md5 mismatch\",\"md5 mismatch\",\"md5 mismatch\",\"md5 mismatch\",\"md5 mismatch\",\"md5 mismatch\",\"md5 mismatch\",\"md5 mismatch\",\"md5 mismatch\",\"md5 mismatch\",\"md5 mismatch\",\"md5 mismatch\",\"md5 mismatch\",\"md5 mismatch\",\"md5 mismatch\",\"md5 mismatch\",\"md5 mismatch\",\"md5 mismatch\",\"md5 mismatch\",\"md5 mismatch\",\"md5 mismatch\"],\"shape\":[107],\"dtype\":\"object\",\"order\":\"little\"}],[\"ts\",{\"type\":\"ndarray\",\"array\":{\"type\":\"bytes\",\"data\":\"AAA44d5neEIAACBQ4md4QgAACL/lZ3hCAADwLelneEIAANic7Gd4QgAAwAvwZ3hCAACoevNneEIAAJDp9md4QgAAeFj6Z3hCAABgx/1neEIAAEg2AWh4QgAAMKUEaHhCAAAYFAhoeEIAAACDC2h4QgAA6PEOaHhCAADQYBJoeEIAALjPFWh4QgAAoD4ZaHhCAACIrRxoeEIAAHAcIGh4QgAAWIsjaHhCAABA+iZoeEIAAChpKmh4QgAAENgtaHhCAAD4RjFoeEIAAOC1NGh4QgAAyCQ4aHhCAACwkztoeEIAAJgCP2h4QgAAgHFCaHhCAABo4EVoeEIAAFBPSWh4QgAAOL5MaHhCAAAgLVBoeEIAAAicU2h4QgAA8ApXaHhCAADYeVpoeEIAAMDoXWh4QgAAqFdhaHhCAACQxmRoeEIAAHg1aGh4QgAAYKRraHhCAABIE29oeEIAADCCcmh4QgAAGPF1aHhCAAAAYHloeEIAAOjOfGh4QgAA0D2AaHhCAAC4rINoeEIAAKAbh2h4QgAAiIqKaHhCAABw+Y1oeEIAAFhokWh4QgAAQNeUaHhCAAAoRphoeEIAABC1m2h4QgAA+COfaHhCAADgkqJoeEIAAMgBpmh4QgAAsHCpaHhCAACY36xoeEIAAIBOsGh4QgAAaL2zaHhCAABQLLdoeEIAADibumh4QgAAIAq+aHhCAAAIecFoeEIAAPDnxGh4QgAA2FbIaHhCAADAxctoeEIAAKg0z2h4QgAAkKPSaHhCAAB4EtZoeEIAAGCB2Wh4QgAASPDcaHhCAAAwX+BoeEIAABjO42h4QgAAAD3naHhCAADoq+poeEIAANAa7mh4QgAAuInxaHhCAACg+PRoeEIAAIhn+Gh4QgAAcNb7aHhCAABYRf9oeEIAAEC0Aml4QgAAKCMGaXhCAAAQkglpeEIAAPgADWl4QgAA4G8QaXhCAADI3hNpeEIAALBNF2l4QgAAmLwaaXhCAACAKx5peEIAAGiaIWl4QgAAUAklaXhCAAA4eChpeEIAACDnK2l4QgAACFYvaXhCAADwxDJpeEIAANgzNml4QgAAwKI5aXhCAACoET1peEIAAJCAQGl4QgAAeO9DaXhCAABgXkdpeEIAAEjNSml4Qg==\"},\"shape\":[107],\"dtype\":\"float64\",\"order\":\"little\"}],[\"error_count\",{\"type\":\"ndarray\",\"array\":{\"type\":\"bytes\",\"data\":\"FwAAAFIAAACtAAAApQAAAKwAAACBAAAAkgAAAH0AAACjAAAAaAAAAIYAAAByAAAAhQAAAIQAAAChAAAAuwAAAJgAAADkAAAAoAAAAKMAAADSAAAAYAAAAI4AAACUAAAAdAAAAGsAAACGAAAAiwAAALIAAACQAAAAhgAAAJcAAACHAAAAiAAAAI8AAACHAAAAbwAAAHYAAACIAAAAeQAAAIEAAABxAAAAdwAAAJIAAAB7AAAAhQAAAKkAAACJAAAAoQAAAIoAAADJAAAAiwAAAGkAAABnAAAAWQAAADIAAABUAAAALgAAAEoAAABbAAAARgAAAE0AAACDAAAAZwAAAGgAAABwAAAAjQAAANMAAAADAQAAEgEAAOYAAAD0AAAA6QAAAM8AAACWAAAAhAAAAHwAAACAAAAATQAAAEgAAABUAAAAUAAAAFAAAABhAAAAegAAAGUAAAA5AAAARwAAAEkAAABPAAAAqAAAALEAAAChAAAAtwAAANUAAACtAAAAhgAAAF4AAABsAAAATAAAAFUAAABfAAAANwAAACsAAABBAAAALwAAAAEAAAA=\"},\"shape\":[107],\"dtype\":\"int32\",\"order\":\"little\"}]]}}},\"view\":{\"type\":\"object\",\"name\":\"CDSView\",\"id\":\"p17846\",\"attributes\":{\"filter\":{\"type\":\"object\",\"name\":\"AllIndices\",\"id\":\"p17847\"}}},\"glyph\":{\"type\":\"object\",\"name\":\"Line\",\"id\":\"p17842\",\"attributes\":{\"x\":{\"type\":\"field\",\"field\":\"ts\"},\"y\":{\"type\":\"field\",\"field\":\"error_count\"},\"line_color\":\"#aec7e8\"}},\"nonselection_glyph\":{\"type\":\"object\",\"name\":\"Line\",\"id\":\"p17843\",\"attributes\":{\"x\":{\"type\":\"field\",\"field\":\"ts\"},\"y\":{\"type\":\"field\",\"field\":\"error_count\"},\"line_color\":\"#aec7e8\",\"line_alpha\":0.1}},\"muted_glyph\":{\"type\":\"object\",\"name\":\"Line\",\"id\":\"p17844\",\"attributes\":{\"x\":{\"type\":\"field\",\"field\":\"ts\"},\"y\":{\"type\":\"field\",\"field\":\"error_count\"},\"line_color\":\"#aec7e8\",\"line_alpha\":0.2}}}},{\"type\":\"object\",\"name\":\"GlyphRenderer\",\"id\":\"p17900\",\"attributes\":{\"data_source\":{\"type\":\"object\",\"name\":\"ColumnDataSource\",\"id\":\"p17891\",\"attributes\":{\"selected\":{\"type\":\"object\",\"name\":\"Selection\",\"id\":\"p17893\",\"attributes\":{\"indices\":[],\"line_indices\":[]}},\"selection_policy\":{\"type\":\"object\",\"name\":\"UnionRenderers\",\"id\":\"p17892\"},\"data\":{\"type\":\"map\",\"entries\":[[\"index\",{\"type\":\"ndarray\",\"array\":{\"type\":\"bytes\",\"data\":\"cQAAAHIAAABzAAAAdAAAAHUAAAB2AAAAdwAAAHgAAAB5AAAAegAAAHsAAAB8AAAAfQAAAA==\"},\"shape\":[13],\"dtype\":\"int32\",\"order\":\"little\"}],[\"error_norm\",{\"type\":\"ndarray\",\"array\":[\"other\",\"other\",\"other\",\"other\",\"other\",\"other\",\"other\",\"other\",\"other\",\"other\",\"other\",\"other\",\"other\"],\"shape\":[13],\"dtype\":\"object\",\"order\":\"little\"}],[\"ts\",{\"type\":\"ndarray\",\"array\":{\"type\":\"bytes\",\"data\":\"AABgx/1neEIAALjPFWh4QgAACJxTaHhCAADoznxoeEIAAPgjn2h4QgAA8OfEaHhCAACQo9JoeEIAAHgS1mh4QgAAAD3naHhCAADQGu5oeEIAAOBvEGl4QgAAsE0XaXhCAACoET1peEI=\"},\"shape\":[13],\"dtype\":\"float64\",\"order\":\"little\"}],[\"error_count\",{\"type\":\"ndarray\",\"array\":{\"type\":\"bytes\",\"data\":\"AQAAAAEAAAABAAAAAQAAAAIAAAAEAAAAAQAAAAEAAAABAAAAAQAAAAEAAAABAAAAAQAAAA==\"},\"shape\":[13],\"dtype\":\"int32\",\"order\":\"little\"}]]}}},\"view\":{\"type\":\"object\",\"name\":\"CDSView\",\"id\":\"p17901\",\"attributes\":{\"filter\":{\"type\":\"object\",\"name\":\"AllIndices\",\"id\":\"p17902\"}}},\"glyph\":{\"type\":\"object\",\"name\":\"Line\",\"id\":\"p17897\",\"attributes\":{\"x\":{\"type\":\"field\",\"field\":\"ts\"},\"y\":{\"type\":\"field\",\"field\":\"error_count\"},\"line_color\":\"#ff7f0e\"}},\"nonselection_glyph\":{\"type\":\"object\",\"name\":\"Line\",\"id\":\"p17898\",\"attributes\":{\"x\":{\"type\":\"field\",\"field\":\"ts\"},\"y\":{\"type\":\"field\",\"field\":\"error_count\"},\"line_color\":\"#ff7f0e\",\"line_alpha\":0.1}},\"muted_glyph\":{\"type\":\"object\",\"name\":\"Line\",\"id\":\"p17899\",\"attributes\":{\"x\":{\"type\":\"field\",\"field\":\"ts\"},\"y\":{\"type\":\"field\",\"field\":\"error_count\"},\"line_color\":\"#ff7f0e\",\"line_alpha\":0.2}}}},{\"type\":\"object\",\"name\":\"GlyphRenderer\",\"id\":\"p17960\",\"attributes\":{\"data_source\":{\"type\":\"object\",\"name\":\"ColumnDataSource\",\"id\":\"p17951\",\"attributes\":{\"selected\":{\"type\":\"object\",\"name\":\"Selection\",\"id\":\"p17953\",\"attributes\":{\"indices\":[],\"line_indices\":[]}},\"selection_policy\":{\"type\":\"object\",\"name\":\"UnionRenderers\",\"id\":\"p17952\"},\"data\":{\"type\":\"map\",\"entries\":[[\"index\",{\"type\":\"ndarray\",\"array\":{\"type\":\"bytes\",\"data\":\"fgAAAH8AAACAAAAAgQAAAIIAAACDAAAAhAAAAIUAAACGAAAAhwAAAIgAAACJAAAAigAAAIsAAACMAAAAjQAAAI4AAACPAAAAkAAAAJEAAACSAAAAkwAAAJQAAACVAAAAlgAAAJcAAACYAAAAmQAAAJoAAACbAAAAnAAAAJ0AAACeAAAAnwAAAKAAAAChAAAAogAAAKMAAACkAAAApQAAAKYAAACnAAAAqAAAAKkAAACqAAAAqwAAAKwAAACtAAAArgAAAK8AAACwAAAAsQAAALIAAACzAAAAtAAAALUAAAC2AAAAtwAAALgAAAC5AAAAugAAALsAAAC8AAAAvQAAAL4AAAC/AAAAwAAAAMEAAADCAAAAwwAAAMQAAADFAAAAxgAAAMcAAADIAAAAyQAAAMoAAADLAAAAzAAAAM0AAADOAAAAzwAAANAAAADRAAAA0gAAANMAAADUAAAA1QAAANYAAADXAAAA2AAAANkAAADaAAAA2wAAAA==\"},\"shape\":[94],\"dtype\":\"int32\",\"order\":\"little\"}],[\"error_norm\",{\"type\":\"ndarray\",\"array\":[\"timeout\",\"timeout\",\"timeout\",\"timeout\",\"timeout\",\"timeout\",\"timeout\",\"timeout\",\"timeout\",\"timeout\",\"timeout\",\"timeout\",\"timeout\",\"timeout\",\"timeout\",\"timeout\",\"timeout\",\"timeout\",\"timeout\",\"timeout\",\"timeout\",\"timeout\",\"timeout\",\"timeout\",\"timeout\",\"timeout\",\"timeout\",\"timeout\",\"timeout\",\"timeout\",\"timeout\",\"timeout\",\"timeout\",\"timeout\",\"timeout\",\"timeout\",\"timeout\",\"timeout\",\"timeout\",\"timeout\",\"timeout\",\"timeout\",\"timeout\",\"timeout\",\"timeout\",\"timeout\",\"timeout\",\"timeout\",\"timeout\",\"timeout\",\"timeout\",\"timeout\",\"timeout\",\"timeout\",\"timeout\",\"timeout\",\"timeout\",\"timeout\",\"timeout\",\"timeout\",\"timeout\",\"timeout\",\"timeout\",\"timeout\",\"timeout\",\"timeout\",\"timeout\",\"timeout\",\"timeout\",\"timeout\",\"timeout\",\"timeout\",\"timeout\",\"timeout\",\"timeout\",\"timeout\",\"timeout\",\"timeout\",\"timeout\",\"timeout\",\"timeout\",\"timeout\",\"timeout\",\"timeout\",\"timeout\",\"timeout\",\"timeout\",\"timeout\",\"timeout\",\"timeout\",\"timeout\",\"timeout\",\"timeout\",\"timeout\"],\"shape\":[94],\"dtype\":\"object\",\"order\":\"little\"}],[\"ts\",{\"type\":\"ndarray\",\"array\":{\"type\":\"bytes\",\"data\":\"AAAgUOJneEIAAAi/5Wd4QgAA8C3pZ3hCAADYnOxneEIAAMAL8Gd4QgAAqHrzZ3hCAACQ6fZneEIAAHhY+md4QgAAYMf9Z3hCAABINgFoeEIAADClBGh4QgAAGBQIaHhCAAAAgwtoeEIAAOjxDmh4QgAA0GASaHhCAAC4zxVoeEIAAKA+GWh4QgAAiK0caHhCAABwHCBoeEIAAFiLI2h4QgAAQPomaHhCAAAoaSpoeEIAABDYLWh4QgAA+EYxaHhCAADgtTRoeEIAAMgkOGh4QgAAsJM7aHhCAACYAj9oeEIAAIBxQmh4QgAAaOBFaHhCAABQT0loeEIAADi+TGh4QgAAIC1QaHhCAAAInFNoeEIAAPAKV2h4QgAA2HlaaHhCAACoV2FoeEIAAJDGZGh4QgAAeDVoaHhCAABgpGtoeEIAAEgTb2h4QgAAGPF1aHhCAAAAYHloeEIAAOjOfGh4QgAA0D2AaHhCAAC4rINoeEIAAKAbh2h4QgAAiIqKaHhCAABw+Y1oeEIAAFhokWh4QgAAQNeUaHhCAAAoRphoeEIAABC1m2h4QgAA+COfaHhCAADgkqJoeEIAAMgBpmh4QgAAsHCpaHhCAACY36xoeEIAAIBOsGh4QgAAaL2zaHhCAABQLLdoeEIAADibumh4QgAAIAq+aHhCAADw58RoeEIAANhWyGh4QgAAwMXLaHhCAACoNM9oeEIAAJCj0mh4QgAAeBLWaHhCAABggdloeEIAADBf4Gh4QgAAGM7jaHhCAAAAPedoeEIAAOir6mh4QgAA0BruaHhCAAC4ifFoeEIAAKD49Gh4QgAAcNb7aHhCAABYRf9oeEIAAEC0Aml4QgAA+AANaXhCAADgbxBpeEIAAMjeE2l4QgAAsE0XaXhCAACYvBppeEIAAIArHml4QgAAaJohaXhCAABQCSVpeEIAADh4KGl4QgAAIOcraXhCAADYMzZpeEIAAMCiOWl4QgAAqBE9aXhCAAB470NpeEI=\"},\"shape\":[94],\"dtype\":\"float64\",\"order\":\"little\"}],[\"error_count\",{\"type\":\"ndarray\",\"array\":{\"type\":\"bytes\",\"data\":\"AgAAAAEAAAAFAAAACQAAAAgAAAAEAAAAAwAAAAgAAAAHAAAACgAAAAUAAAABAAAABQAAAAQAAAADAAAACQAAAAcAAAADAAAABQAAAAYAAAADAAAAAgAAAAEAAAACAAAAAgAAAAMAAAACAAAACAAAAAQAAAAFAAAACgAAAA8AAAAFAAAAAwAAAAUAAAAEAAAAAQAAAAQAAAAFAAAABAAAAAgAAAAIAAAAAwAAAAMAAAAGAAAAAwAAAAcAAAABAAAAAgAAAAYAAAADAAAAAQAAAAUAAAABAAAAAQAAAAIAAAADAAAAAQAAAAIAAAABAAAAAwAAAAMAAAABAAAACgAAAAYAAAASAAAABwAAAA4AAAAGAAAABQAAAAEAAAADAAAABwAAAAMAAAABAAAABQAAAAEAAAACAAAABAAAAAIAAAABAAAAAgAAAAEAAAAFAAAAAQAAAAUAAAAFAAAAAQAAAAQAAAAGAAAAAgAAAAEAAAABAAAAAQAAAA==\"},\"shape\":[94],\"dtype\":\"int32\",\"order\":\"little\"}]]}}},\"view\":{\"type\":\"object\",\"name\":\"CDSView\",\"id\":\"p17961\",\"attributes\":{\"filter\":{\"type\":\"object\",\"name\":\"AllIndices\",\"id\":\"p17962\"}}},\"glyph\":{\"type\":\"object\",\"name\":\"Line\",\"id\":\"p17957\",\"attributes\":{\"x\":{\"type\":\"field\",\"field\":\"ts\"},\"y\":{\"type\":\"field\",\"field\":\"error_count\"},\"line_color\":\"#ffbb78\"}},\"nonselection_glyph\":{\"type\":\"object\",\"name\":\"Line\",\"id\":\"p17958\",\"attributes\":{\"x\":{\"type\":\"field\",\"field\":\"ts\"},\"y\":{\"type\":\"field\",\"field\":\"error_count\"},\"line_color\":\"#ffbb78\",\"line_alpha\":0.1}},\"muted_glyph\":{\"type\":\"object\",\"name\":\"Line\",\"id\":\"p17959\",\"attributes\":{\"x\":{\"type\":\"field\",\"field\":\"ts\"},\"y\":{\"type\":\"field\",\"field\":\"error_count\"},\"line_color\":\"#ffbb78\",\"line_alpha\":0.2}}}}],\"toolbar\":{\"type\":\"object\",\"name\":\"Toolbar\",\"id\":\"p17709\",\"attributes\":{\"tools\":[{\"type\":\"object\",\"name\":\"PanTool\",\"id\":\"p17770\"},{\"type\":\"object\",\"name\":\"WheelZoomTool\",\"id\":\"p17771\"},{\"type\":\"object\",\"name\":\"BoxZoomTool\",\"id\":\"p17772\",\"attributes\":{\"overlay\":{\"type\":\"object\",\"name\":\"BoxAnnotation\",\"id\":\"p17773\",\"attributes\":{\"syncable\":false,\"level\":\"overlay\",\"visible\":false,\"left_units\":\"canvas\",\"right_units\":\"canvas\",\"bottom_units\":\"canvas\",\"top_units\":\"canvas\",\"line_color\":\"black\",\"line_alpha\":1.0,\"line_width\":2,\"line_dash\":[4,4],\"fill_color\":\"lightgrey\",\"fill_alpha\":0.5}}}},{\"type\":\"object\",\"name\":\"SaveTool\",\"id\":\"p17774\"},{\"type\":\"object\",\"name\":\"ResetTool\",\"id\":\"p17775\"},{\"type\":\"object\",\"name\":\"HelpTool\",\"id\":\"p17776\"}]}},\"left\":[{\"type\":\"object\",\"name\":\"LinearAxis\",\"id\":\"p17763\",\"attributes\":{\"ticker\":{\"type\":\"object\",\"name\":\"BasicTicker\",\"id\":\"p17766\",\"attributes\":{\"mantissas\":[1,2,5]}},\"formatter\":{\"type\":\"object\",\"name\":\"BasicTickFormatter\",\"id\":\"p17765\"},\"axis_label\":\"Error count\",\"major_label_policy\":{\"type\":\"object\",\"name\":\"AllLabels\",\"id\":\"p17764\"}}}],\"below\":[{\"type\":\"object\",\"name\":\"DatetimeAxis\",\"id\":\"p17720\",\"attributes\":{\"ticker\":{\"type\":\"object\",\"name\":\"DatetimeTicker\",\"id\":\"p17723\",\"attributes\":{\"num_minor_ticks\":5,\"tickers\":[{\"type\":\"object\",\"name\":\"AdaptiveTicker\",\"id\":\"p17724\",\"attributes\":{\"num_minor_ticks\":0,\"mantissas\":[1,2,5],\"max_interval\":500.0}},{\"type\":\"object\",\"name\":\"AdaptiveTicker\",\"id\":\"p17725\",\"attributes\":{\"num_minor_ticks\":0,\"base\":60,\"mantissas\":[1,2,5,10,15,20,30],\"min_interval\":1000.0,\"max_interval\":1800000.0}},{\"type\":\"object\",\"name\":\"AdaptiveTicker\",\"id\":\"p17726\",\"attributes\":{\"num_minor_ticks\":0,\"base\":24,\"mantissas\":[1,2,4,6,8,12],\"min_interval\":3600000.0,\"max_interval\":43200000.0}},{\"type\":\"object\",\"name\":\"DaysTicker\",\"id\":\"p17727\",\"attributes\":{\"days\":[1,2,3,4,5,6,7,8,9,10,11,12,13,14,15,16,17,18,19,20,21,22,23,24,25,26,27,28,29,30,31]}},{\"type\":\"object\",\"name\":\"DaysTicker\",\"id\":\"p17728\",\"attributes\":{\"days\":[1,4,7,10,13,16,19,22,25,28]}},{\"type\":\"object\",\"name\":\"DaysTicker\",\"id\":\"p17729\",\"attributes\":{\"days\":[1,8,15,22]}},{\"type\":\"object\",\"name\":\"DaysTicker\",\"id\":\"p17730\",\"attributes\":{\"days\":[1,15]}},{\"type\":\"object\",\"name\":\"MonthsTicker\",\"id\":\"p17731\",\"attributes\":{\"months\":[0,1,2,3,4,5,6,7,8,9,10,11]}},{\"type\":\"object\",\"name\":\"MonthsTicker\",\"id\":\"p17732\",\"attributes\":{\"months\":[0,2,4,6,8,10]}},{\"type\":\"object\",\"name\":\"MonthsTicker\",\"id\":\"p17733\",\"attributes\":{\"months\":[0,4,8]}},{\"type\":\"object\",\"name\":\"MonthsTicker\",\"id\":\"p17734\",\"attributes\":{\"months\":[0,6]}},{\"type\":\"object\",\"name\":\"YearsTicker\",\"id\":\"p17735\"}]}},\"formatter\":{\"type\":\"object\",\"name\":\"DatetimeTickFormatter\",\"id\":\"p17722\"},\"axis_label\":\"Hour\",\"major_label_policy\":{\"type\":\"object\",\"name\":\"AllLabels\",\"id\":\"p17721\"}}}],\"center\":[{\"type\":\"object\",\"name\":\"Grid\",\"id\":\"p17762\",\"attributes\":{\"axis\":{\"id\":\"p17720\"}}},{\"type\":\"object\",\"name\":\"Grid\",\"id\":\"p17769\",\"attributes\":{\"dimension\":1,\"axis\":{\"id\":\"p17763\"}}},{\"type\":\"object\",\"name\":\"Legend\",\"id\":\"p17834\",\"attributes\":{\"location\":\"top_left\",\"items\":[{\"type\":\"object\",\"name\":\"LegendItem\",\"id\":\"p17835\",\"attributes\":{\"label\":{\"type\":\"value\",\"value\":\"Bad Gateway\"},\"renderers\":[{\"id\":\"p17794\"}]}},{\"type\":\"object\",\"name\":\"LegendItem\",\"id\":\"p17890\",\"attributes\":{\"label\":{\"type\":\"value\",\"value\":\"md5 mismatch\"},\"renderers\":[{\"id\":\"p17845\"}]}},{\"type\":\"object\",\"name\":\"LegendItem\",\"id\":\"p17950\",\"attributes\":{\"label\":{\"type\":\"value\",\"value\":\"other\"},\"renderers\":[{\"id\":\"p17900\"}]}},{\"type\":\"object\",\"name\":\"LegendItem\",\"id\":\"p18015\",\"attributes\":{\"label\":{\"type\":\"value\",\"value\":\"timeout\"},\"renderers\":[{\"id\":\"p17960\"}]}}]}}]}}]}};\n",
       "  const render_items = [{\"docid\":\"c394a340-0c56-475c-a843-b131c192b108\",\"roots\":{\"p17702\":\"2f3c9582-e995-4e83-aee5-39af507b790a\"},\"root_ids\":[\"p17702\"]}];\n",
       "  root.Bokeh.embed.embed_items_notebook(docs_json, render_items);\n",
       "  }\n",
       "  if (root.Bokeh !== undefined) {\n",
       "    embed_document(root);\n",
       "  } else {\n",
       "    let attempts = 0;\n",
       "    const timer = setInterval(function(root) {\n",
       "      if (root.Bokeh !== undefined) {\n",
       "        clearInterval(timer);\n",
       "        embed_document(root);\n",
       "      } else {\n",
       "        attempts++;\n",
       "        if (attempts > 100) {\n",
       "          clearInterval(timer);\n",
       "          console.log(\"Bokeh: ERROR: Unable to run BokehJS code because BokehJS library is missing\");\n",
       "        }\n",
       "      }\n",
       "    }, 10, root)\n",
       "  }\n",
       "})(window);"
      ],
      "application/vnd.bokehjs_exec.v0+json": ""
     },
     "metadata": {
      "application/vnd.bokehjs_exec.v0+json": {
       "id": "p17702"
      }
     },
     "output_type": "display_data"
    }
   ],
   "source": [
    "def classify_error(error):\n",
    "    if error == 'None: None' or 'Max retries exceeded' in error:\n",
    "        return 'timeout'\n",
    "    elif error == 'md5 mismatch':\n",
    "        return 'md5 mismatch'\n",
    "    elif error.startswith('[Errno None: None] '):\n",
    "        return 'other'\n",
    "    else:\n",
    "        return error\n",
    "\n",
    "data['error_norm'] = data['error'].map(classify_error, na_action='ignore')\n",
    "\n",
    "errors_per_hour = data.groupby(['error_norm', data['ts'].dt.floor('H')])['ts'].count().reset_index(name='error_count')\n",
    "p = figure(title=\"Errors per category (per hour)\",\n",
    "           x_axis_type=\"datetime\",\n",
    "           x_axis_label=\"Hour\",\n",
    "           y_axis_label=\"Error count\",\n",
    "           sizing_mode=\"stretch_width\",\n",
    "           height=250,)\n",
    "lines(p, 'ts', 'error_count', 'error_norm', errors_per_hour, legend=True)\n",
    "p.legend.location = 'top_left'\n",
    "show(p)"
   ]
  },
  {
   "cell_type": "markdown",
   "id": "cef0f978-3caa-449a-a824-0d018c2c6544",
   "metadata": {},
   "source": [
    "Initially the most occurring problem were timeouts, but then as more files finished downloading correctly and failed downloads were re-attempted, the md5 errors became more prevalent. I should check whether the error rate is consistent per file or per item really. Error count is much lower at the end where I was doing md5 checking of existing files (so less actual downloading) and downloading WIDE6 (with 64 in parallel as opposed to 256, so again less actual downloading.)"
   ]
  },
  {
   "cell_type": "code",
   "execution_count": 78,
   "id": "d69de87e-bb92-4517-a6d6-38c8840dc495",
   "metadata": {},
   "outputs": [
    {
     "data": {
      "text/html": [
       "<div>\n",
       "<style scoped>\n",
       "    .dataframe tbody tr th:only-of-type {\n",
       "        vertical-align: middle;\n",
       "    }\n",
       "\n",
       "    .dataframe tbody tr th {\n",
       "        vertical-align: top;\n",
       "    }\n",
       "\n",
       "    .dataframe thead th {\n",
       "        text-align: right;\n",
       "    }\n",
       "</style>\n",
       "<table border=\"1\" class=\"dataframe\">\n",
       "  <thead>\n",
       "    <tr style=\"text-align: right;\">\n",
       "      <th></th>\n",
       "      <th>error_count</th>\n",
       "    </tr>\n",
       "    <tr>\n",
       "      <th>error_norm</th>\n",
       "      <th></th>\n",
       "    </tr>\n",
       "  </thead>\n",
       "  <tbody>\n",
       "    <tr>\n",
       "      <th>Bad Gateway</th>\n",
       "      <td>11</td>\n",
       "    </tr>\n",
       "    <tr>\n",
       "      <th>md5 mismatch</th>\n",
       "      <td>13731</td>\n",
       "    </tr>\n",
       "    <tr>\n",
       "      <th>other</th>\n",
       "      <td>17</td>\n",
       "    </tr>\n",
       "    <tr>\n",
       "      <th>timeout</th>\n",
       "      <td>398</td>\n",
       "    </tr>\n",
       "  </tbody>\n",
       "</table>\n",
       "</div>"
      ],
      "text/plain": [
       "              error_count\n",
       "error_norm               \n",
       "Bad Gateway            11\n",
       "md5 mismatch        13731\n",
       "other                  17\n",
       "timeout               398"
      ]
     },
     "execution_count": 78,
     "metadata": {},
     "output_type": "execute_result"
    }
   ],
   "source": [
    "errors_per_hour.groupby('error_norm').sum(numeric_only=True)"
   ]
  },
  {
   "cell_type": "code",
   "execution_count": 79,
   "id": "b3781694-636d-48e9-83c8-dcadddca614e",
   "metadata": {},
   "outputs": [
    {
     "data": {
      "text/html": [
       "\n",
       "  <div id=\"ddb56fc7-e662-4a8a-b5fa-949c04e4bf47\" data-root-id=\"p19243\" style=\"display: contents;\"></div>\n"
      ]
     },
     "metadata": {},
     "output_type": "display_data"
    },
    {
     "data": {
      "application/javascript": [
       "(function(root) {\n",
       "  function embed_document(root) {\n",
       "  const docs_json = {\"d73885db-53fe-428c-b6d9-b98469f013bf\":{\"version\":\"3.0.3\",\"title\":\"Bokeh Application\",\"defs\":[],\"roots\":[{\"type\":\"object\",\"name\":\"Figure\",\"id\":\"p19243\",\"attributes\":{\"height\":250,\"sizing_mode\":\"stretch_width\",\"x_range\":{\"type\":\"object\",\"name\":\"DataRange1d\",\"id\":\"p19244\"},\"y_range\":{\"type\":\"object\",\"name\":\"DataRange1d\",\"id\":\"p19245\"},\"x_scale\":{\"type\":\"object\",\"name\":\"LinearScale\",\"id\":\"p19257\"},\"y_scale\":{\"type\":\"object\",\"name\":\"LinearScale\",\"id\":\"p19259\"},\"title\":{\"type\":\"object\",\"name\":\"Title\",\"id\":\"p19246\",\"attributes\":{\"text\":\"Amount of data downloaded (over time, per hour)\"}},\"renderers\":[{\"type\":\"object\",\"name\":\"GlyphRenderer\",\"id\":\"p19335\",\"attributes\":{\"data_source\":{\"type\":\"object\",\"name\":\"ColumnDataSource\",\"id\":\"p19326\",\"attributes\":{\"selected\":{\"type\":\"object\",\"name\":\"Selection\",\"id\":\"p19328\",\"attributes\":{\"indices\":[],\"line_indices\":[]}},\"selection_policy\":{\"type\":\"object\",\"name\":\"UnionRenderers\",\"id\":\"p19327\"},\"data\":{\"type\":\"map\",\"entries\":[[\"index\",{\"type\":\"ndarray\",\"array\":{\"type\":\"bytes\",\"data\":\"AAAAAAEAAAACAAAAAwAAAAQAAAAFAAAABgAAAAcAAAAIAAAACQAAAAoAAAALAAAADAAAAA0AAAAOAAAADwAAABAAAAARAAAAEgAAABMAAAAUAAAAFQAAABYAAAAXAAAAGAAAABkAAAAaAAAAGwAAABwAAAAdAAAAHgAAAB8AAAAgAAAAIQAAACIAAAAjAAAAJAAAACUAAAAmAAAAJwAAACgAAAApAAAAKgAAACsAAAAsAAAALQAAAC4AAAAvAAAAMAAAADEAAAAyAAAAMwAAADQAAAA1AAAANgAAADcAAAA4AAAAOQAAADoAAAA7AAAAPAAAAD0AAAA+AAAAPwAAAEAAAABBAAAAQgAAAEMAAABEAAAARQAAAEYAAABHAAAASAAAAEkAAABKAAAASwAAAEwAAABNAAAATgAAAE8AAABQAAAAUQAAAFIAAABTAAAAVAAAAFUAAABWAAAAVwAAAFgAAABZAAAAWgAAAFsAAABcAAAAXQAAAF4AAABfAAAAYAAAAGEAAABiAAAAYwAAAGQAAABlAAAAZgAAAGcAAABoAAAAaQAAAGoAAAA=\"},\"shape\":[107],\"dtype\":\"int32\",\"order\":\"little\"}],[\"logfile\",{\"type\":\"ndarray\",\"array\":[\"ia-download.log.20230223113546\",\"ia-download.log.20230223113546\",\"ia-download.log.20230223113546\",\"ia-download.log.20230223113546\",\"ia-download.log.20230223113546\",\"ia-download.log.20230223113546\",\"ia-download.log.20230223113546\",\"ia-download.log.20230223113546\",\"ia-download.log.20230223113546\",\"ia-download.log.20230223113546\",\"ia-download.log.20230223113546\",\"ia-download.log.20230223113546\",\"ia-download.log.20230223113546\",\"ia-download.log.20230223113546\",\"ia-download.log.20230223113546\",\"ia-download.log.20230223113546\",\"ia-download.log.20230223113546\",\"ia-download.log.20230223113546\",\"ia-download.log.20230223113546\",\"ia-download.log.20230223113546\",\"ia-download.log.20230223113546\",\"ia-download.log.20230223113546\",\"ia-download.log.20230223113546\",\"ia-download.log.20230223113546\",\"ia-download.log.20230223113546\",\"ia-download.log.20230223113546\",\"ia-download.log.20230223113546\",\"ia-download.log.20230223113546\",\"ia-download.log.20230223113546\",\"ia-download.log.20230223113546\",\"ia-download.log.20230223113546\",\"ia-download.log.20230223113546\",\"ia-download.log.20230223113546\",\"ia-download.log.20230223113546\",\"ia-download.log.20230223113546\",\"ia-download.log.20230223113546\",\"ia-download.log.20230223113546\",\"ia-download.log.20230223113546\",\"ia-download.log.20230223113546\",\"ia-download.log.20230223113546\",\"ia-download.log.20230223113546\",\"ia-download.log.20230223113546\",\"ia-download.log.20230223113546\",\"ia-download.log.20230223113546\",\"ia-download.log.20230223113546\",\"ia-download.log.20230223113546\",\"ia-download.log.20230223113546\",\"ia-download.log.20230223113546\",\"ia-download.log.20230223113546\",\"ia-download.log.20230223113546\",\"ia-download.log.20230223113546\",\"ia-download.log.20230223113546\",\"ia-download.log.20230223113546\",\"ia-download.log.20230223113546\",\"ia-download.log.20230223113546\",\"ia-download.log.20230223113546\",\"ia-download.log.20230223113546\",\"ia-download.log.20230223113546\",\"ia-download.log.20230223113546\",\"ia-download.log.20230223113546\",\"ia-download.log.20230223113546\",\"ia-download.log.20230223113546\",\"ia-download.log.20230223113546\",\"ia-download.log.20230223113546\",\"ia-download.log.20230223113546\",\"ia-download.log.20230223113546\",\"ia-download.log.20230223113546\",\"ia-download.log.20230223113546\",\"ia-download.log.20230223113546\",\"ia-download.log.20230223113546\",\"ia-download.log.20230223113546\",\"ia-download.log.20230223113546\",\"ia-download.log.20230223113546\",\"ia-download.log.20230223113546\",\"ia-download.log.20230223113546\",\"ia-download.log.20230223113546\",\"ia-download.log.20230223113546\",\"ia-download.log.20230223113546\",\"ia-download.log.20230223113546\",\"ia-download.log.20230223113546\",\"ia-download.log.20230223113546\",\"ia-download.log.20230223113546\",\"ia-download.log.20230223113546\",\"ia-download.log.20230223113546\",\"ia-download.log.20230223113546\",\"ia-download.log.20230223113546\",\"ia-download.log.20230223113546\",\"ia-download.log.20230223113546\",\"ia-download.log.20230223113546\",\"ia-download.log.20230223113546\",\"ia-download.log.20230223113546\",\"ia-download.log.20230223113546\",\"ia-download.log.20230223113546\",\"ia-download.log.20230223113546\",\"ia-download.log.20230223113546\",\"ia-download.log.20230223113546\",\"ia-download.log.20230223113546\",\"ia-download.log.20230223113546\",\"ia-download.log.20230223113546\",\"ia-download.log.20230223113546\",\"ia-download.log.20230223113546\",\"ia-download.log.20230223113546\",\"ia-download.log.20230223113546\",\"ia-download.log.20230223113546\",\"ia-download.log.20230223113546\",\"ia-download.log.20230223113546\",\"ia-download.log.20230223113546\"],\"shape\":[107],\"dtype\":\"object\",\"order\":\"little\"}],[\"ts\",{\"type\":\"ndarray\",\"array\":{\"type\":\"bytes\",\"data\":\"AAA44d5neEIAACBQ4md4QgAACL/lZ3hCAADwLelneEIAANic7Gd4QgAAwAvwZ3hCAACoevNneEIAAJDp9md4QgAAeFj6Z3hCAABgx/1neEIAAEg2AWh4QgAAMKUEaHhCAAAYFAhoeEIAAACDC2h4QgAA6PEOaHhCAADQYBJoeEIAALjPFWh4QgAAoD4ZaHhCAACIrRxoeEIAAHAcIGh4QgAAWIsjaHhCAABA+iZoeEIAAChpKmh4QgAAENgtaHhCAAD4RjFoeEIAAOC1NGh4QgAAyCQ4aHhCAACwkztoeEIAAJgCP2h4QgAAgHFCaHhCAABo4EVoeEIAAFBPSWh4QgAAOL5MaHhCAAAgLVBoeEIAAAicU2h4QgAA8ApXaHhCAADYeVpoeEIAAMDoXWh4QgAAqFdhaHhCAACQxmRoeEIAAHg1aGh4QgAAYKRraHhCAABIE29oeEIAADCCcmh4QgAAGPF1aHhCAAAAYHloeEIAAOjOfGh4QgAA0D2AaHhCAAC4rINoeEIAAKAbh2h4QgAAiIqKaHhCAABw+Y1oeEIAAFhokWh4QgAAQNeUaHhCAAAoRphoeEIAABC1m2h4QgAA+COfaHhCAADgkqJoeEIAAMgBpmh4QgAAsHCpaHhCAACY36xoeEIAAIBOsGh4QgAAaL2zaHhCAABQLLdoeEIAADibumh4QgAAIAq+aHhCAAAIecFoeEIAAPDnxGh4QgAA2FbIaHhCAADAxctoeEIAAKg0z2h4QgAAkKPSaHhCAAB4EtZoeEIAAGCB2Wh4QgAASPDcaHhCAAAwX+BoeEIAABjO42h4QgAAAD3naHhCAADoq+poeEIAANAa7mh4QgAAuInxaHhCAACg+PRoeEIAAIhn+Gh4QgAAcNb7aHhCAABYRf9oeEIAAEC0Aml4QgAAKCMGaXhCAAAQkglpeEIAAPgADWl4QgAA4G8QaXhCAADI3hNpeEIAALBNF2l4QgAAmLwaaXhCAACAKx5peEIAAGiaIWl4QgAAUAklaXhCAAA4eChpeEIAACDnK2l4QgAACFYvaXhCAADwxDJpeEIAANgzNml4QgAAwKI5aXhCAACoET1peEIAAJCAQGl4QgAAeO9DaXhCAABgXkdpeEIAAEjNSml4Qg==\"},\"shape\":[107],\"dtype\":\"float64\",\"order\":\"little\"}],[\"amount\",{\"type\":\"ndarray\",\"array\":{\"type\":\"bytes\",\"data\":\"AADH42ZtZUIAINrSb55+QgAQv5jNqntCAGDA0D5lekIA4MjBH+N5QgDgUIerEnhCALAhpkmvdUIAcJjV6dR0QgBg9mWdEHdCAAAP3zbrdEIAQEbxSqh1QgCgG3KJpnRCAPBQUawudUIA0ETG7eF2QgDQ48+GA3pCACDphRf2ekIA4Lihomh4QgCwjXFOZXlCAMB44H+2ekIAcJ+hQhR8QgAQqslmYn1CAFAqnIs6gEIAiFtSa0aAQgCw96qc8X5CAMCNBuZvf0IAMMF+1wZ/QgBAftiIRH5CAICmEO+Ie0IAgLJ/gx55QgAgfd2Z6nRCACAPlRbEckIAgGs5OqJ0QgDAvWv8EXVCANBQ6xRTdEIAcL7nAIZ1QgCQ90W9ZXZCAGDzu+dQdkIAMLS5VD13QgAgvhE1+HVCAOCBu/7UdUIAQFvlVOp0QgCg3QAdQnVCAJDn+oOVdkIAUGThXyt2QgDAeQRBY3dCACAIsiOkeEIAMJPA9Ad4QgDgjsybWnpCAEDccY+EeUIAwIyP5gZ5QgCQo21Ok3dCAPB+COsXdUIAcPxggNhxQgBwD1MtcHFCAKCw+skrbUIA4IQw8VVqQgDAK0tLrGtCAACQa1BXakIAIPVVI+FsQgCAw2pHlG5CAGDopc/abUIAwDRE6U9wQgDgdLBJHHJCADDeqjq/ckIAkL0Pzhx2QgCAIB9r73VCAHAUiXNidkIAkFi309h3QgBwsp7jbHlCACAXIgrEeUIA8C5MshF8QgDwOuvcvXtCADCnhJe/e0IAwNyWsa96QgCwAmOudHlCAAAmIjald0IAIHZem550QgBwi4YxcXJCANBmXlkwcUIAwGeTZjduQgAwUEuTE3FCAADQVBKAbUIAwEd2qtVsQgDAVlW2enBCAJC/HvTpcUIAsIYX4RJyQgDAFKo4hmlCAIDiaNg3b0IAQBlcswVtQgCw2Ja9S3FCAEBct4Wjd0IAED1swSR5QgDALmHrMXpCAEAef4F8e0IAQHw6hHJ8QgCgtuJcO35CAPgTrxx4gEIAkHt2w4p9QgBgpsJYJHtCAMB75kBHeUIA8LQRErF1QgCQDlSfpXJCAIBuyzQmbkIAQE2yUxFtQgDgFiy9Wm1CAOD7k9Y5bEIAQDMVYN9SQg==\"},\"shape\":[107],\"dtype\":\"float64\",\"order\":\"little\"}]]}}},\"view\":{\"type\":\"object\",\"name\":\"CDSView\",\"id\":\"p19336\",\"attributes\":{\"filter\":{\"type\":\"object\",\"name\":\"AllIndices\",\"id\":\"p19337\"}}},\"glyph\":{\"type\":\"object\",\"name\":\"Line\",\"id\":\"p19332\",\"attributes\":{\"x\":{\"type\":\"field\",\"field\":\"ts\"},\"y\":{\"type\":\"field\",\"field\":\"amount\"},\"line_color\":\"#1f77b4\"}},\"nonselection_glyph\":{\"type\":\"object\",\"name\":\"Line\",\"id\":\"p19333\",\"attributes\":{\"x\":{\"type\":\"field\",\"field\":\"ts\"},\"y\":{\"type\":\"field\",\"field\":\"amount\"},\"line_color\":\"#1f77b4\",\"line_alpha\":0.1}},\"muted_glyph\":{\"type\":\"object\",\"name\":\"Line\",\"id\":\"p19334\",\"attributes\":{\"x\":{\"type\":\"field\",\"field\":\"ts\"},\"y\":{\"type\":\"field\",\"field\":\"amount\"},\"line_color\":\"#1f77b4\",\"line_alpha\":0.2}}}}],\"toolbar\":{\"type\":\"object\",\"name\":\"Toolbar\",\"id\":\"p19250\",\"attributes\":{\"tools\":[{\"type\":\"object\",\"name\":\"PanTool\",\"id\":\"p19311\"},{\"type\":\"object\",\"name\":\"WheelZoomTool\",\"id\":\"p19312\"},{\"type\":\"object\",\"name\":\"BoxZoomTool\",\"id\":\"p19313\",\"attributes\":{\"overlay\":{\"type\":\"object\",\"name\":\"BoxAnnotation\",\"id\":\"p19314\",\"attributes\":{\"syncable\":false,\"level\":\"overlay\",\"visible\":false,\"left_units\":\"canvas\",\"right_units\":\"canvas\",\"bottom_units\":\"canvas\",\"top_units\":\"canvas\",\"line_color\":\"black\",\"line_alpha\":1.0,\"line_width\":2,\"line_dash\":[4,4],\"fill_color\":\"lightgrey\",\"fill_alpha\":0.5}}}},{\"type\":\"object\",\"name\":\"SaveTool\",\"id\":\"p19315\"},{\"type\":\"object\",\"name\":\"ResetTool\",\"id\":\"p19316\"},{\"type\":\"object\",\"name\":\"HelpTool\",\"id\":\"p19317\"}]}},\"left\":[{\"type\":\"object\",\"name\":\"LinearAxis\",\"id\":\"p19304\",\"attributes\":{\"ticker\":{\"type\":\"object\",\"name\":\"BasicTicker\",\"id\":\"p19307\",\"attributes\":{\"mantissas\":[1,2,5]}},\"formatter\":{\"type\":\"object\",\"name\":\"BasicTickFormatter\",\"id\":\"p19306\"},\"axis_label\":\"Downloaded data\",\"major_label_policy\":{\"type\":\"object\",\"name\":\"AllLabels\",\"id\":\"p19305\"}}}],\"below\":[{\"type\":\"object\",\"name\":\"DatetimeAxis\",\"id\":\"p19261\",\"attributes\":{\"ticker\":{\"type\":\"object\",\"name\":\"DatetimeTicker\",\"id\":\"p19264\",\"attributes\":{\"num_minor_ticks\":5,\"tickers\":[{\"type\":\"object\",\"name\":\"AdaptiveTicker\",\"id\":\"p19265\",\"attributes\":{\"num_minor_ticks\":0,\"mantissas\":[1,2,5],\"max_interval\":500.0}},{\"type\":\"object\",\"name\":\"AdaptiveTicker\",\"id\":\"p19266\",\"attributes\":{\"num_minor_ticks\":0,\"base\":60,\"mantissas\":[1,2,5,10,15,20,30],\"min_interval\":1000.0,\"max_interval\":1800000.0}},{\"type\":\"object\",\"name\":\"AdaptiveTicker\",\"id\":\"p19267\",\"attributes\":{\"num_minor_ticks\":0,\"base\":24,\"mantissas\":[1,2,4,6,8,12],\"min_interval\":3600000.0,\"max_interval\":43200000.0}},{\"type\":\"object\",\"name\":\"DaysTicker\",\"id\":\"p19268\",\"attributes\":{\"days\":[1,2,3,4,5,6,7,8,9,10,11,12,13,14,15,16,17,18,19,20,21,22,23,24,25,26,27,28,29,30,31]}},{\"type\":\"object\",\"name\":\"DaysTicker\",\"id\":\"p19269\",\"attributes\":{\"days\":[1,4,7,10,13,16,19,22,25,28]}},{\"type\":\"object\",\"name\":\"DaysTicker\",\"id\":\"p19270\",\"attributes\":{\"days\":[1,8,15,22]}},{\"type\":\"object\",\"name\":\"DaysTicker\",\"id\":\"p19271\",\"attributes\":{\"days\":[1,15]}},{\"type\":\"object\",\"name\":\"MonthsTicker\",\"id\":\"p19272\",\"attributes\":{\"months\":[0,1,2,3,4,5,6,7,8,9,10,11]}},{\"type\":\"object\",\"name\":\"MonthsTicker\",\"id\":\"p19273\",\"attributes\":{\"months\":[0,2,4,6,8,10]}},{\"type\":\"object\",\"name\":\"MonthsTicker\",\"id\":\"p19274\",\"attributes\":{\"months\":[0,4,8]}},{\"type\":\"object\",\"name\":\"MonthsTicker\",\"id\":\"p19275\",\"attributes\":{\"months\":[0,6]}},{\"type\":\"object\",\"name\":\"YearsTicker\",\"id\":\"p19276\"}]}},\"formatter\":{\"type\":\"object\",\"name\":\"DatetimeTickFormatter\",\"id\":\"p19263\"},\"axis_label\":\"Hour\",\"major_label_policy\":{\"type\":\"object\",\"name\":\"AllLabels\",\"id\":\"p19262\"}}}],\"center\":[{\"type\":\"object\",\"name\":\"Grid\",\"id\":\"p19303\",\"attributes\":{\"axis\":{\"id\":\"p19261\"}}},{\"type\":\"object\",\"name\":\"Grid\",\"id\":\"p19310\",\"attributes\":{\"dimension\":1,\"axis\":{\"id\":\"p19304\"}}}]}}]}};\n",
       "  const render_items = [{\"docid\":\"d73885db-53fe-428c-b6d9-b98469f013bf\",\"roots\":{\"p19243\":\"ddb56fc7-e662-4a8a-b5fa-949c04e4bf47\"},\"root_ids\":[\"p19243\"]}];\n",
       "  root.Bokeh.embed.embed_items_notebook(docs_json, render_items);\n",
       "  }\n",
       "  if (root.Bokeh !== undefined) {\n",
       "    embed_document(root);\n",
       "  } else {\n",
       "    let attempts = 0;\n",
       "    const timer = setInterval(function(root) {\n",
       "      if (root.Bokeh !== undefined) {\n",
       "        clearInterval(timer);\n",
       "        embed_document(root);\n",
       "      } else {\n",
       "        attempts++;\n",
       "        if (attempts > 100) {\n",
       "          clearInterval(timer);\n",
       "          console.log(\"Bokeh: ERROR: Unable to run BokehJS code because BokehJS library is missing\");\n",
       "        }\n",
       "      }\n",
       "    }, 10, root)\n",
       "  }\n",
       "})(window);"
      ],
      "application/vnd.bokehjs_exec.v0+json": ""
     },
     "metadata": {
      "application/vnd.bokehjs_exec.v0+json": {
       "id": "p19243"
      }
     },
     "output_type": "display_data"
    }
   ],
   "source": [
    "bytes_per_hour = data_per_hour['size'].sum().reset_index(name='amount') # size is NA on error, files that fail md5 check are not counted\n",
    "p = figure(title=\"Amount of data downloaded (over time, per hour)\",\n",
    "           x_axis_type=\"datetime\",\n",
    "           x_axis_label=\"Hour\",\n",
    "           y_axis_label=\"Downloaded data\",\n",
    "           sizing_mode=\"stretch_width\",\n",
    "           height=250,)\n",
    "lines(p, 'ts', 'amount', 'logfile', bytes_per_hour)\n",
    "show(p)"
   ]
  },
  {
   "cell_type": "markdown",
   "id": "01286b6b-8c55-45f6-a521-9591a29ceb73",
   "metadata": {},
   "source": [
    "Going by eye, average seems to be about 1TB/hour with the 256 parallel downloads I was using around Chirstmas. New year started with checking existing files (so fewer downloads) and then completing WIDE6 (again fewer downloads as I was checking md5 of existing files and only using 64 downloads in parallel.)"
   ]
  },
  {
   "cell_type": "code",
   "execution_count": 80,
   "id": "05326ef3-084b-4f8c-b351-68bd22c15748",
   "metadata": {},
   "outputs": [
    {
     "data": {
      "text/plain": [
       "'18054 files downloaded'"
      ]
     },
     "execution_count": 80,
     "metadata": {},
     "output_type": "execute_result"
    }
   ],
   "source": [
    "f\"{data[data['error'].isna()]['item'].unique().size} files downloaded\""
   ]
  },
  {
   "cell_type": "code",
   "execution_count": 81,
   "id": "b7458b2a-7ffd-468f-83e1-62db1a88d6b5",
   "metadata": {},
   "outputs": [
    {
     "data": {
      "text/plain": [
       "'4.5 days of downloading'"
      ]
     },
     "execution_count": 81,
     "metadata": {},
     "output_type": "execute_result"
    }
   ],
   "source": [
    "f\"{data['ts'].dt.floor('H').unique().size / 24:.1f} days of downloading\""
   ]
  },
  {
   "cell_type": "code",
   "execution_count": 82,
   "id": "b41d8522-9995-445e-870d-bfca17e33df6",
   "metadata": {},
   "outputs": [
    {
     "data": {
      "text/plain": [
       "'1516GB per hour on average'"
      ]
     },
     "execution_count": 82,
     "metadata": {},
     "output_type": "execute_result"
    }
   ],
   "source": [
    "f\"{data_per_hour['size'].sum().mean() / (1000 * 1000 * 1000):.0f}GB per hour on average\""
   ]
  },
  {
   "cell_type": "markdown",
   "id": "feb146b3-e61c-450c-916d-827aa78463f4",
   "metadata": {},
   "source": [
    "Above average is a bad estimate for top download speed. It includes periods that I mostly did md5 checking of existing files, and only re-downloading files that did not pass this check."
   ]
  },
  {
   "cell_type": "code",
   "execution_count": 83,
   "id": "a49a3500-190a-47f7-84e6-06d56d4f2211",
   "metadata": {},
   "outputs": [
    {
     "data": {
      "text/html": [
       "\n",
       "  <div id=\"2ae206fa-89eb-492d-bd5e-d871ef295869\" data-root-id=\"p20509\" style=\"display: contents;\"></div>\n"
      ]
     },
     "metadata": {},
     "output_type": "display_data"
    },
    {
     "data": {
      "application/javascript": [
       "(function(root) {\n",
       "  function embed_document(root) {\n",
       "  const docs_json = {\"5463135e-2b58-4be2-9e3f-cc090f417133\":{\"version\":\"3.0.3\",\"title\":\"Bokeh Application\",\"defs\":[],\"roots\":[{\"type\":\"object\",\"name\":\"Figure\",\"id\":\"p20509\",\"attributes\":{\"height\":250,\"sizing_mode\":\"stretch_width\",\"x_range\":{\"type\":\"object\",\"name\":\"DataRange1d\",\"id\":\"p20510\"},\"y_range\":{\"type\":\"object\",\"name\":\"DataRange1d\",\"id\":\"p20511\"},\"x_scale\":{\"type\":\"object\",\"name\":\"LinearScale\",\"id\":\"p20523\"},\"y_scale\":{\"type\":\"object\",\"name\":\"LinearScale\",\"id\":\"p20525\"},\"title\":{\"type\":\"object\",\"name\":\"Title\",\"id\":\"p20512\",\"attributes\":{\"text\":\"Number of files downloaded (over time, per hour)\"}},\"renderers\":[{\"type\":\"object\",\"name\":\"GlyphRenderer\",\"id\":\"p20601\",\"attributes\":{\"data_source\":{\"type\":\"object\",\"name\":\"ColumnDataSource\",\"id\":\"p20592\",\"attributes\":{\"selected\":{\"type\":\"object\",\"name\":\"Selection\",\"id\":\"p20594\",\"attributes\":{\"indices\":[],\"line_indices\":[]}},\"selection_policy\":{\"type\":\"object\",\"name\":\"UnionRenderers\",\"id\":\"p20593\"},\"data\":{\"type\":\"map\",\"entries\":[[\"index\",{\"type\":\"ndarray\",\"array\":{\"type\":\"bytes\",\"data\":\"AAAAAAEAAAACAAAAAwAAAAQAAAAFAAAABgAAAAcAAAAIAAAACQAAAAoAAAALAAAADAAAAA0AAAAOAAAADwAAABAAAAARAAAAEgAAABMAAAAUAAAAFQAAABYAAAAXAAAAGAAAABkAAAAaAAAAGwAAABwAAAAdAAAAHgAAAB8AAAAgAAAAIQAAACIAAAAjAAAAJAAAACUAAAAmAAAAJwAAACgAAAApAAAAKgAAACsAAAAsAAAALQAAAC4AAAAvAAAAMAAAADEAAAAyAAAAMwAAADQAAAA1AAAANgAAADcAAAA4AAAAOQAAADoAAAA7AAAAPAAAAD0AAAA+AAAAPwAAAEAAAABBAAAAQgAAAEMAAABEAAAARQAAAEYAAABHAAAASAAAAEkAAABKAAAASwAAAEwAAABNAAAATgAAAE8AAABQAAAAUQAAAFIAAABTAAAAVAAAAFUAAABWAAAAVwAAAFgAAABZAAAAWgAAAFsAAABcAAAAXQAAAF4AAABfAAAAYAAAAGEAAABiAAAAYwAAAGQAAABlAAAAZgAAAGcAAABoAAAAaQAAAGoAAAA=\"},\"shape\":[107],\"dtype\":\"int32\",\"order\":\"little\"}],[\"logfile\",{\"type\":\"ndarray\",\"array\":[\"ia-download.log.20230223113546\",\"ia-download.log.20230223113546\",\"ia-download.log.20230223113546\",\"ia-download.log.20230223113546\",\"ia-download.log.20230223113546\",\"ia-download.log.20230223113546\",\"ia-download.log.20230223113546\",\"ia-download.log.20230223113546\",\"ia-download.log.20230223113546\",\"ia-download.log.20230223113546\",\"ia-download.log.20230223113546\",\"ia-download.log.20230223113546\",\"ia-download.log.20230223113546\",\"ia-download.log.20230223113546\",\"ia-download.log.20230223113546\",\"ia-download.log.20230223113546\",\"ia-download.log.20230223113546\",\"ia-download.log.20230223113546\",\"ia-download.log.20230223113546\",\"ia-download.log.20230223113546\",\"ia-download.log.20230223113546\",\"ia-download.log.20230223113546\",\"ia-download.log.20230223113546\",\"ia-download.log.20230223113546\",\"ia-download.log.20230223113546\",\"ia-download.log.20230223113546\",\"ia-download.log.20230223113546\",\"ia-download.log.20230223113546\",\"ia-download.log.20230223113546\",\"ia-download.log.20230223113546\",\"ia-download.log.20230223113546\",\"ia-download.log.20230223113546\",\"ia-download.log.20230223113546\",\"ia-download.log.20230223113546\",\"ia-download.log.20230223113546\",\"ia-download.log.20230223113546\",\"ia-download.log.20230223113546\",\"ia-download.log.20230223113546\",\"ia-download.log.20230223113546\",\"ia-download.log.20230223113546\",\"ia-download.log.20230223113546\",\"ia-download.log.20230223113546\",\"ia-download.log.20230223113546\",\"ia-download.log.20230223113546\",\"ia-download.log.20230223113546\",\"ia-download.log.20230223113546\",\"ia-download.log.20230223113546\",\"ia-download.log.20230223113546\",\"ia-download.log.20230223113546\",\"ia-download.log.20230223113546\",\"ia-download.log.20230223113546\",\"ia-download.log.20230223113546\",\"ia-download.log.20230223113546\",\"ia-download.log.20230223113546\",\"ia-download.log.20230223113546\",\"ia-download.log.20230223113546\",\"ia-download.log.20230223113546\",\"ia-download.log.20230223113546\",\"ia-download.log.20230223113546\",\"ia-download.log.20230223113546\",\"ia-download.log.20230223113546\",\"ia-download.log.20230223113546\",\"ia-download.log.20230223113546\",\"ia-download.log.20230223113546\",\"ia-download.log.20230223113546\",\"ia-download.log.20230223113546\",\"ia-download.log.20230223113546\",\"ia-download.log.20230223113546\",\"ia-download.log.20230223113546\",\"ia-download.log.20230223113546\",\"ia-download.log.20230223113546\",\"ia-download.log.20230223113546\",\"ia-download.log.20230223113546\",\"ia-download.log.20230223113546\",\"ia-download.log.20230223113546\",\"ia-download.log.20230223113546\",\"ia-download.log.20230223113546\",\"ia-download.log.20230223113546\",\"ia-download.log.20230223113546\",\"ia-download.log.20230223113546\",\"ia-download.log.20230223113546\",\"ia-download.log.20230223113546\",\"ia-download.log.20230223113546\",\"ia-download.log.20230223113546\",\"ia-download.log.20230223113546\",\"ia-download.log.20230223113546\",\"ia-download.log.20230223113546\",\"ia-download.log.20230223113546\",\"ia-download.log.20230223113546\",\"ia-download.log.20230223113546\",\"ia-download.log.20230223113546\",\"ia-download.log.20230223113546\",\"ia-download.log.20230223113546\",\"ia-download.log.20230223113546\",\"ia-download.log.20230223113546\",\"ia-download.log.20230223113546\",\"ia-download.log.20230223113546\",\"ia-download.log.20230223113546\",\"ia-download.log.20230223113546\",\"ia-download.log.20230223113546\",\"ia-download.log.20230223113546\",\"ia-download.log.20230223113546\",\"ia-download.log.20230223113546\",\"ia-download.log.20230223113546\",\"ia-download.log.20230223113546\",\"ia-download.log.20230223113546\",\"ia-download.log.20230223113546\"],\"shape\":[107],\"dtype\":\"object\",\"order\":\"little\"}],[\"ts\",{\"type\":\"ndarray\",\"array\":{\"type\":\"bytes\",\"data\":\"AAA44d5neEIAACBQ4md4QgAACL/lZ3hCAADwLelneEIAANic7Gd4QgAAwAvwZ3hCAACoevNneEIAAJDp9md4QgAAeFj6Z3hCAABgx/1neEIAAEg2AWh4QgAAMKUEaHhCAAAYFAhoeEIAAACDC2h4QgAA6PEOaHhCAADQYBJoeEIAALjPFWh4QgAAoD4ZaHhCAACIrRxoeEIAAHAcIGh4QgAAWIsjaHhCAABA+iZoeEIAAChpKmh4QgAAENgtaHhCAAD4RjFoeEIAAOC1NGh4QgAAyCQ4aHhCAACwkztoeEIAAJgCP2h4QgAAgHFCaHhCAABo4EVoeEIAAFBPSWh4QgAAOL5MaHhCAAAgLVBoeEIAAAicU2h4QgAA8ApXaHhCAADYeVpoeEIAAMDoXWh4QgAAqFdhaHhCAACQxmRoeEIAAHg1aGh4QgAAYKRraHhCAABIE29oeEIAADCCcmh4QgAAGPF1aHhCAAAAYHloeEIAAOjOfGh4QgAA0D2AaHhCAAC4rINoeEIAAKAbh2h4QgAAiIqKaHhCAABw+Y1oeEIAAFhokWh4QgAAQNeUaHhCAAAoRphoeEIAABC1m2h4QgAA+COfaHhCAADgkqJoeEIAAMgBpmh4QgAAsHCpaHhCAACY36xoeEIAAIBOsGh4QgAAaL2zaHhCAABQLLdoeEIAADibumh4QgAAIAq+aHhCAAAIecFoeEIAAPDnxGh4QgAA2FbIaHhCAADAxctoeEIAAKg0z2h4QgAAkKPSaHhCAAB4EtZoeEIAAGCB2Wh4QgAASPDcaHhCAAAwX+BoeEIAABjO42h4QgAAAD3naHhCAADoq+poeEIAANAa7mh4QgAAuInxaHhCAACg+PRoeEIAAIhn+Gh4QgAAcNb7aHhCAABYRf9oeEIAAEC0Aml4QgAAKCMGaXhCAAAQkglpeEIAAPgADWl4QgAA4G8QaXhCAADI3hNpeEIAALBNF2l4QgAAmLwaaXhCAACAKx5peEIAAGiaIWl4QgAAUAklaXhCAAA4eChpeEIAACDnK2l4QgAACFYvaXhCAADwxDJpeEIAANgzNml4QgAAwKI5aXhCAACoET1peEIAAJCAQGl4QgAAeO9DaXhCAABgXkdpeEIAAEjNSml4Qg==\"},\"shape\":[107],\"dtype\":\"float64\",\"order\":\"little\"}],[\"file_count\",{\"type\":\"ndarray\",\"array\":{\"type\":\"bytes\",\"data\":\"oQIAACIHAAC1BgAAQgYAABMGAACqBQAATwUAAAoFAACUBQAAHgUAAEkFAAAkBQAANQUAAHkFAABQBgAAsQYAAP0FAABLBgAAkwYAABUHAAA8BwAABAgAACIIAACtBwAA3gcAAI8HAACDBwAA7gYAAEYGAAAsBQAAowQAACoFAABDBQAAGAUAAEQFAAByBQAAaQUAALMFAABdBQAAWAUAABkFAABCBQAAhgUAAHAFAACfBQAA+gUAAPIFAACOBgAATgYAAE4GAADcBQAAVAUAAIYEAABzBAAAvAMAAFQDAAB7AwAAQAMAAJ4DAADfAwAAxAMAABQEAACSBAAApQQAAHQFAACGBQAAfQUAAOsFAABcBgAAfAYAAB0HAAD3BgAA8gYAALUGAABTBgAAyQUAADwFAAClBAAASAQAANkDAABLBAAAwgMAAKsDAAAtBAAAjwQAAJIEAAAzAwAA5QMAAIoDAABJBAAA2QUAAEMGAACZBgAA4gYAADcHAACrBwAAOAgAAFQHAACPBgAAPwYAAH8FAADRBAAA5wMAALwDAADJAwAAqgMAADkBAAA=\"},\"shape\":[107],\"dtype\":\"int32\",\"order\":\"little\"}]]}}},\"view\":{\"type\":\"object\",\"name\":\"CDSView\",\"id\":\"p20602\",\"attributes\":{\"filter\":{\"type\":\"object\",\"name\":\"AllIndices\",\"id\":\"p20603\"}}},\"glyph\":{\"type\":\"object\",\"name\":\"Line\",\"id\":\"p20598\",\"attributes\":{\"x\":{\"type\":\"field\",\"field\":\"ts\"},\"y\":{\"type\":\"field\",\"field\":\"file_count\"},\"line_color\":\"#1f77b4\"}},\"nonselection_glyph\":{\"type\":\"object\",\"name\":\"Line\",\"id\":\"p20599\",\"attributes\":{\"x\":{\"type\":\"field\",\"field\":\"ts\"},\"y\":{\"type\":\"field\",\"field\":\"file_count\"},\"line_color\":\"#1f77b4\",\"line_alpha\":0.1}},\"muted_glyph\":{\"type\":\"object\",\"name\":\"Line\",\"id\":\"p20600\",\"attributes\":{\"x\":{\"type\":\"field\",\"field\":\"ts\"},\"y\":{\"type\":\"field\",\"field\":\"file_count\"},\"line_color\":\"#1f77b4\",\"line_alpha\":0.2}}}}],\"toolbar\":{\"type\":\"object\",\"name\":\"Toolbar\",\"id\":\"p20516\",\"attributes\":{\"tools\":[{\"type\":\"object\",\"name\":\"PanTool\",\"id\":\"p20577\"},{\"type\":\"object\",\"name\":\"WheelZoomTool\",\"id\":\"p20578\"},{\"type\":\"object\",\"name\":\"BoxZoomTool\",\"id\":\"p20579\",\"attributes\":{\"overlay\":{\"type\":\"object\",\"name\":\"BoxAnnotation\",\"id\":\"p20580\",\"attributes\":{\"syncable\":false,\"level\":\"overlay\",\"visible\":false,\"left_units\":\"canvas\",\"right_units\":\"canvas\",\"bottom_units\":\"canvas\",\"top_units\":\"canvas\",\"line_color\":\"black\",\"line_alpha\":1.0,\"line_width\":2,\"line_dash\":[4,4],\"fill_color\":\"lightgrey\",\"fill_alpha\":0.5}}}},{\"type\":\"object\",\"name\":\"SaveTool\",\"id\":\"p20581\"},{\"type\":\"object\",\"name\":\"ResetTool\",\"id\":\"p20582\"},{\"type\":\"object\",\"name\":\"HelpTool\",\"id\":\"p20583\"}]}},\"left\":[{\"type\":\"object\",\"name\":\"LinearAxis\",\"id\":\"p20570\",\"attributes\":{\"ticker\":{\"type\":\"object\",\"name\":\"BasicTicker\",\"id\":\"p20573\",\"attributes\":{\"mantissas\":[1,2,5]}},\"formatter\":{\"type\":\"object\",\"name\":\"BasicTickFormatter\",\"id\":\"p20572\"},\"axis_label\":\"Downloaded files\",\"major_label_policy\":{\"type\":\"object\",\"name\":\"AllLabels\",\"id\":\"p20571\"}}}],\"below\":[{\"type\":\"object\",\"name\":\"DatetimeAxis\",\"id\":\"p20527\",\"attributes\":{\"ticker\":{\"type\":\"object\",\"name\":\"DatetimeTicker\",\"id\":\"p20530\",\"attributes\":{\"num_minor_ticks\":5,\"tickers\":[{\"type\":\"object\",\"name\":\"AdaptiveTicker\",\"id\":\"p20531\",\"attributes\":{\"num_minor_ticks\":0,\"mantissas\":[1,2,5],\"max_interval\":500.0}},{\"type\":\"object\",\"name\":\"AdaptiveTicker\",\"id\":\"p20532\",\"attributes\":{\"num_minor_ticks\":0,\"base\":60,\"mantissas\":[1,2,5,10,15,20,30],\"min_interval\":1000.0,\"max_interval\":1800000.0}},{\"type\":\"object\",\"name\":\"AdaptiveTicker\",\"id\":\"p20533\",\"attributes\":{\"num_minor_ticks\":0,\"base\":24,\"mantissas\":[1,2,4,6,8,12],\"min_interval\":3600000.0,\"max_interval\":43200000.0}},{\"type\":\"object\",\"name\":\"DaysTicker\",\"id\":\"p20534\",\"attributes\":{\"days\":[1,2,3,4,5,6,7,8,9,10,11,12,13,14,15,16,17,18,19,20,21,22,23,24,25,26,27,28,29,30,31]}},{\"type\":\"object\",\"name\":\"DaysTicker\",\"id\":\"p20535\",\"attributes\":{\"days\":[1,4,7,10,13,16,19,22,25,28]}},{\"type\":\"object\",\"name\":\"DaysTicker\",\"id\":\"p20536\",\"attributes\":{\"days\":[1,8,15,22]}},{\"type\":\"object\",\"name\":\"DaysTicker\",\"id\":\"p20537\",\"attributes\":{\"days\":[1,15]}},{\"type\":\"object\",\"name\":\"MonthsTicker\",\"id\":\"p20538\",\"attributes\":{\"months\":[0,1,2,3,4,5,6,7,8,9,10,11]}},{\"type\":\"object\",\"name\":\"MonthsTicker\",\"id\":\"p20539\",\"attributes\":{\"months\":[0,2,4,6,8,10]}},{\"type\":\"object\",\"name\":\"MonthsTicker\",\"id\":\"p20540\",\"attributes\":{\"months\":[0,4,8]}},{\"type\":\"object\",\"name\":\"MonthsTicker\",\"id\":\"p20541\",\"attributes\":{\"months\":[0,6]}},{\"type\":\"object\",\"name\":\"YearsTicker\",\"id\":\"p20542\"}]}},\"formatter\":{\"type\":\"object\",\"name\":\"DatetimeTickFormatter\",\"id\":\"p20529\"},\"axis_label\":\"Hour\",\"major_label_policy\":{\"type\":\"object\",\"name\":\"AllLabels\",\"id\":\"p20528\"}}}],\"center\":[{\"type\":\"object\",\"name\":\"Grid\",\"id\":\"p20569\",\"attributes\":{\"axis\":{\"id\":\"p20527\"}}},{\"type\":\"object\",\"name\":\"Grid\",\"id\":\"p20576\",\"attributes\":{\"dimension\":1,\"axis\":{\"id\":\"p20570\"}}}]}}]}};\n",
       "  const render_items = [{\"docid\":\"5463135e-2b58-4be2-9e3f-cc090f417133\",\"roots\":{\"p20509\":\"2ae206fa-89eb-492d-bd5e-d871ef295869\"},\"root_ids\":[\"p20509\"]}];\n",
       "  root.Bokeh.embed.embed_items_notebook(docs_json, render_items);\n",
       "  }\n",
       "  if (root.Bokeh !== undefined) {\n",
       "    embed_document(root);\n",
       "  } else {\n",
       "    let attempts = 0;\n",
       "    const timer = setInterval(function(root) {\n",
       "      if (root.Bokeh !== undefined) {\n",
       "        clearInterval(timer);\n",
       "        embed_document(root);\n",
       "      } else {\n",
       "        attempts++;\n",
       "        if (attempts > 100) {\n",
       "          clearInterval(timer);\n",
       "          console.log(\"Bokeh: ERROR: Unable to run BokehJS code because BokehJS library is missing\");\n",
       "        }\n",
       "      }\n",
       "    }, 10, root)\n",
       "  }\n",
       "})(window);"
      ],
      "application/vnd.bokehjs_exec.v0+json": ""
     },
     "metadata": {
      "application/vnd.bokehjs_exec.v0+json": {
       "id": "p20509"
      }
     },
     "output_type": "display_data"
    }
   ],
   "source": [
    "p = figure(title=\"Number of files downloaded (over time, per hour)\",\n",
    "           x_axis_type=\"datetime\",\n",
    "           x_axis_label=\"Hour\",\n",
    "           y_axis_label=\"Downloaded files\",\n",
    "           sizing_mode=\"stretch_width\",\n",
    "           height=250,)\n",
    "files_per_hour = data_per_hour['md5'].count().reset_index(name='file_count') # md5 is NA on errors\n",
    "lines(p, 'ts', 'file_count', 'logfile', files_per_hour)\n",
    "show(p)"
   ]
  },
  {
   "cell_type": "markdown",
   "id": "f2373f68-e9de-4e1a-8d27-584abf3a7d3d",
   "metadata": {},
   "source": [
    "Surprise surprise above graph closely matches the amount of data downloaded graph."
   ]
  },
  {
   "cell_type": "code",
   "execution_count": null,
   "id": "52775292-9bb8-4375-a24f-07d4c8889383",
   "metadata": {},
   "outputs": [],
   "source": []
  }
 ],
 "metadata": {
  "kernelspec": {
   "display_name": "Python 3 (ipykernel)",
   "language": "python",
   "name": "python3"
  },
  "language_info": {
   "codemirror_mode": {
    "name": "ipython",
    "version": 3
   },
   "file_extension": ".py",
   "mimetype": "text/x-python",
   "name": "python",
   "nbconvert_exporter": "python",
   "pygments_lexer": "ipython3",
   "version": "3.9.16"
  }
 },
 "nbformat": 4,
 "nbformat_minor": 5
}
